{
 "cells": [
  {
   "cell_type": "code",
   "execution_count": 86,
   "metadata": {},
   "outputs": [],
   "source": [
    "import pandas as pd\n",
    "import numpy as np\n",
    "import matplotlib.pyplot as plt\n",
    "import random\n",
    "import seaborn as sns\n",
    "from IPython.display import Image\n",
    "\n",
    "%matplotlib inline\n",
    "np.random.seed(42)\n",
    "\n",
    "full_data = pd.read_csv('/Users/balance/Desktop/udacity-review/A-B Test/Practical_Statistics/data/coffee_dataset.csv')\n",
    "sample_data = full_data.sample(200)"
   ]
  },
  {
   "cell_type": "code",
   "execution_count": 2,
   "metadata": {},
   "outputs": [
    {
     "data": {
      "text/html": [
       "<div>\n",
       "<style scoped>\n",
       "    .dataframe tbody tr th:only-of-type {\n",
       "        vertical-align: middle;\n",
       "    }\n",
       "\n",
       "    .dataframe tbody tr th {\n",
       "        vertical-align: top;\n",
       "    }\n",
       "\n",
       "    .dataframe thead th {\n",
       "        text-align: right;\n",
       "    }\n",
       "</style>\n",
       "<table border=\"1\" class=\"dataframe\">\n",
       "  <thead>\n",
       "    <tr style=\"text-align: right;\">\n",
       "      <th></th>\n",
       "      <th>user_id</th>\n",
       "      <th>age</th>\n",
       "      <th>drinks_coffee</th>\n",
       "      <th>height</th>\n",
       "    </tr>\n",
       "  </thead>\n",
       "  <tbody>\n",
       "    <tr>\n",
       "      <th>2402</th>\n",
       "      <td>2874</td>\n",
       "      <td>&lt;21</td>\n",
       "      <td>True</td>\n",
       "      <td>64.357154</td>\n",
       "    </tr>\n",
       "    <tr>\n",
       "      <th>2864</th>\n",
       "      <td>3670</td>\n",
       "      <td>&gt;=21</td>\n",
       "      <td>True</td>\n",
       "      <td>66.859636</td>\n",
       "    </tr>\n",
       "    <tr>\n",
       "      <th>2167</th>\n",
       "      <td>7441</td>\n",
       "      <td>&lt;21</td>\n",
       "      <td>False</td>\n",
       "      <td>66.659561</td>\n",
       "    </tr>\n",
       "    <tr>\n",
       "      <th>507</th>\n",
       "      <td>2781</td>\n",
       "      <td>&gt;=21</td>\n",
       "      <td>True</td>\n",
       "      <td>70.166241</td>\n",
       "    </tr>\n",
       "    <tr>\n",
       "      <th>1817</th>\n",
       "      <td>2875</td>\n",
       "      <td>&gt;=21</td>\n",
       "      <td>True</td>\n",
       "      <td>71.369120</td>\n",
       "    </tr>\n",
       "    <tr>\n",
       "      <th>...</th>\n",
       "      <td>...</td>\n",
       "      <td>...</td>\n",
       "      <td>...</td>\n",
       "      <td>...</td>\n",
       "    </tr>\n",
       "    <tr>\n",
       "      <th>1187</th>\n",
       "      <td>6237</td>\n",
       "      <td>&lt;21</td>\n",
       "      <td>False</td>\n",
       "      <td>62.493744</td>\n",
       "    </tr>\n",
       "    <tr>\n",
       "      <th>463</th>\n",
       "      <td>1857</td>\n",
       "      <td>&lt;21</td>\n",
       "      <td>False</td>\n",
       "      <td>66.476106</td>\n",
       "    </tr>\n",
       "    <tr>\n",
       "      <th>1195</th>\n",
       "      <td>6397</td>\n",
       "      <td>&lt;21</td>\n",
       "      <td>False</td>\n",
       "      <td>64.555794</td>\n",
       "    </tr>\n",
       "    <tr>\n",
       "      <th>1080</th>\n",
       "      <td>4065</td>\n",
       "      <td>&lt;21</td>\n",
       "      <td>False</td>\n",
       "      <td>66.842149</td>\n",
       "    </tr>\n",
       "    <tr>\n",
       "      <th>1422</th>\n",
       "      <td>3971</td>\n",
       "      <td>&lt;21</td>\n",
       "      <td>False</td>\n",
       "      <td>61.891849</td>\n",
       "    </tr>\n",
       "  </tbody>\n",
       "</table>\n",
       "<p>200 rows × 4 columns</p>\n",
       "</div>"
      ],
      "text/plain": [
       "      user_id   age  drinks_coffee     height\n",
       "2402     2874   <21           True  64.357154\n",
       "2864     3670  >=21           True  66.859636\n",
       "2167     7441   <21          False  66.659561\n",
       "507      2781  >=21           True  70.166241\n",
       "1817     2875  >=21           True  71.369120\n",
       "...       ...   ...            ...        ...\n",
       "1187     6237   <21          False  62.493744\n",
       "463      1857   <21          False  66.476106\n",
       "1195     6397   <21          False  64.555794\n",
       "1080     4065   <21          False  66.842149\n",
       "1422     3971   <21          False  61.891849\n",
       "\n",
       "[200 rows x 4 columns]"
      ]
     },
     "execution_count": 2,
     "metadata": {},
     "output_type": "execute_result"
    }
   ],
   "source": [
    "sample_data"
   ]
  },
  {
   "cell_type": "code",
   "execution_count": 3,
   "metadata": {},
   "outputs": [
    {
     "data": {
      "text/plain": [
       "(200, 4)"
      ]
     },
     "execution_count": 3,
     "metadata": {},
     "output_type": "execute_result"
    }
   ],
   "source": [
    "sample_data.shape"
   ]
  },
  {
   "cell_type": "code",
   "execution_count": null,
   "metadata": {},
   "outputs": [],
   "source": []
  },
  {
   "cell_type": "markdown",
   "metadata": {},
   "source": [
    "1. If you were interested in studying whether the average height for coffee drinkers is the same as for non-coffee drinkers, what would the null and alternative hypotheses be? Write them in the cell below, and use your answer to answer the first quiz question below.\n",
    "\n",
    "#### Since there is no directional component associated with this statement, a not equal to seems most reasonable."
   ]
  },
  {
   "cell_type": "code",
   "execution_count": 106,
   "metadata": {},
   "outputs": [
    {
     "data": {
      "image/png": "[encoded data removed]",
      "text/plain": [
       "<IPython.core.display.Image object>"
      ]
     },
     "execution_count": 106,
     "metadata": {},
     "output_type": "execute_result"
    }
   ],
   "source": [
    "e"
   ]
  },
  {
   "cell_type": "code",
   "execution_count": null,
   "metadata": {},
   "outputs": [],
   "source": []
  },
  {
   "cell_type": "markdown",
   "metadata": {},
   "source": [
    "2. If you were interested in studying whether the average height for coffee drinkers is less than non-coffee drinkers, what would the null and alternative be? Place them in the cell below, and use your answer to answer the second quiz question below.\n",
    "\n",
    "In this case, there is a question associated with a direction - that is the average height for coffee drinkers is less than non-coffee drinkers. Below is one of the ways you could write the null and alternative. Since the mean for coffee drinkers is listed first here, the alternative would suggest that this is negative."
   ]
  },
  {
   "cell_type": "code",
   "execution_count": 107,
   "metadata": {},
   "outputs": [
    {
     "data": {
      "image/png": "[encoded data removed]",
      "text/plain": [
       "<IPython.core.display.Image object>"
      ]
     },
     "execution_count": 107,
     "metadata": {},
     "output_type": "execute_result"
    }
   ],
   "source": [
    "Image(filename='/Users/balance/Desktop/3.png')"
   ]
  },
  {
   "cell_type": "code",
   "execution_count": null,
   "metadata": {},
   "outputs": [],
   "source": []
  },
  {
   "cell_type": "markdown",
   "metadata": {},
   "source": [
    "3. For 10,000 iterations: bootstrap the sample data, calculate the mean height for coffee drinkers and non-coffee drinkers, and calculate the difference in means for each sample. You will want to have three arrays at the end of the iterations - one for each mean and one for the difference in means. Use the results of your sampling distribution, to answer the third quiz question below"
   ]
  },
  {
   "cell_type": "code",
   "execution_count": 6,
   "metadata": {},
   "outputs": [],
   "source": [
    "nocoff_means, coff_means, diffs=[], [],[]\n",
    "\n",
    "for _ in range (10000):\n",
    "    bootsamp=sample_data.sample(200, replace=True)\n",
    "    coff_mean=bootsamp[bootsamp['drinks_coffee']==True]['height'].mean()\n",
    "    nocoff_mean=bootsamp[bootsamp['drinks_coffee']==False]['height'].mean()\n",
    "    \n",
    "    coff_means.append(coff_mean)\n",
    "    nocoff_means.append(nocoff_mean)\n",
    "    diffs.append(coff_mean-nocoff_mean)\n",
    "    \n",
    "    "
   ]
  },
  {
   "cell_type": "code",
   "execution_count": 15,
   "metadata": {},
   "outputs": [
    {
     "data": {
      "text/plain": [
       "(67.76046797870424, 66.54483902806783)"
      ]
     },
     "execution_count": 15,
     "metadata": {},
     "output_type": "execute_result"
    }
   ],
   "source": [
    "coff_mean, nocoff_mean"
   ]
  },
  {
   "cell_type": "code",
   "execution_count": 102,
   "metadata": {},
   "outputs": [
    {
     "data": {
      "text/plain": [
       "10000"
      ]
     },
     "execution_count": 102,
     "metadata": {},
     "output_type": "execute_result"
    }
   ],
   "source": [
    "len(diffs)"
   ]
  },
  {
   "cell_type": "code",
   "execution_count": null,
   "metadata": {},
   "outputs": [],
   "source": []
  },
  {
   "cell_type": "code",
   "execution_count": null,
   "metadata": {},
   "outputs": [],
   "source": []
  },
  {
   "cell_type": "code",
   "execution_count": null,
   "metadata": {},
   "outputs": [],
   "source": []
  },
  {
   "cell_type": "code",
   "execution_count": 18,
   "metadata": {},
   "outputs": [],
   "source": [
    "testsample=sample_data.sample(200,replace=True)\n",
    "cofftest=testsample[testsample['drinks_coffee']==True]['height'].mean()\n",
    "nocoffeetest=testsample[testsample['drinks_coffee']==False]['height'].mean()"
   ]
  },
  {
   "cell_type": "code",
   "execution_count": 21,
   "metadata": {},
   "outputs": [
    {
     "data": {
      "text/plain": [
       "(200, 4)"
      ]
     },
     "execution_count": 21,
     "metadata": {},
     "output_type": "execute_result"
    }
   ],
   "source": [
    "testsample.shape"
   ]
  },
  {
   "cell_type": "code",
   "execution_count": 28,
   "metadata": {},
   "outputs": [
    {
     "data": {
      "text/plain": [
       "[68.62126858133244,\n",
       " 68.08739477707392,\n",
       " 68.17764884912127,\n",
       " 68.18923247535511,\n",
       " 68.58444118753478,\n",
       " 68.1374185971409,\n",
       " 68.2812117705514,\n",
       " 68.19743475621509,\n",
       " 67.7739263955255,\n",
       " 67.97211975307653,\n",
       " 68.21423443272572,\n",
       " 68.29278481039007,\n",
       " 67.83090950199632,\n",
       " 68.10499417520556,\n",
       " 68.4496522606532,\n",
       " 68.21760884935269,\n",
       " 68.58018582654255,\n",
       " 67.82959651151015,\n",
       " 67.9258232546535,\n",
       " 67.72794374562947,\n",
       " 67.92114224444283,\n",
       " 67.93897545801033,\n",
       " 68.04211404203753,\n",
       " 68.17372487732409,\n",
       " 68.30008547143451,\n",
       " 68.17083108870445,\n",
       " 67.94456564848709,\n",
       " 68.09906596532595,\n",
       " 68.35992488483318,\n",
       " 67.87539422172685,\n",
       " 68.21953866181786,\n",
       " 67.92737698755803,\n",
       " 67.93404678351523,\n",
       " 67.78375672474638,\n",
       " 67.94345356498448,\n",
       " 68.2268158309115,\n",
       " 68.04006041594319,\n",
       " 68.07341784067907,\n",
       " 68.20267124875237,\n",
       " 68.48022320904224,\n",
       " 68.32150262376845,\n",
       " 68.28329268311437,\n",
       " 68.10486696895596,\n",
       " 67.74844884390488,\n",
       " 68.473474900394,\n",
       " 68.38992773818754,\n",
       " 68.25897019402102,\n",
       " 68.34188552763896,\n",
       " 68.39121049736787,\n",
       " 68.21331524595188,\n",
       " 67.6750711655776,\n",
       " 68.42572634329329,\n",
       " 68.06454759270957,\n",
       " 67.87339246488044,\n",
       " 68.27903605374674,\n",
       " 68.33036659949025,\n",
       " 68.3922731677829,\n",
       " 67.95958596910258,\n",
       " 67.59712702774065,\n",
       " 68.13576261188878,\n",
       " 68.33110477898798,\n",
       " 68.43559414280224,\n",
       " 68.49134843033184,\n",
       " 68.32363330555378,\n",
       " 68.21724678976787,\n",
       " 67.93747164181244,\n",
       " 68.13495089670639,\n",
       " 68.3451072541538,\n",
       " 68.05120019870989,\n",
       " 67.87889755831262,\n",
       " 67.70878738887801,\n",
       " 68.2038896834431,\n",
       " 68.01001237395285,\n",
       " 68.05402311474712,\n",
       " 68.33193784336274,\n",
       " 67.99965105409002,\n",
       " 68.36745121231783,\n",
       " 68.4570492943536,\n",
       " 68.24589383610987,\n",
       " 67.64384971158384,\n",
       " 68.06995268017859,\n",
       " 68.02553204450979,\n",
       " 68.25467000624862,\n",
       " 68.29985261034848,\n",
       " 68.00792126929433,\n",
       " 67.9357894600854,\n",
       " 67.78417431519944,\n",
       " 68.43674755067704,\n",
       " 68.03512789835975,\n",
       " 67.72054643468974,\n",
       " 67.69971336718655,\n",
       " 68.23700865002331,\n",
       " 68.30206845611497,\n",
       " 67.90842112509483,\n",
       " 68.35204771056331,\n",
       " 67.79921768241726,\n",
       " 67.79938504708937,\n",
       " 68.25696415978466,\n",
       " 68.05323646379468,\n",
       " 68.12330647947248,\n",
       " 67.98954824130398,\n",
       " 67.96042517040782,\n",
       " 68.20503066279491,\n",
       " 68.106783170459,\n",
       " 67.75796610335375,\n",
       " 68.06196008375095,\n",
       " 68.14707573118031,\n",
       " 67.96432988975172,\n",
       " 68.47222627064076,\n",
       " 67.82192222156893,\n",
       " 68.45953566603376,\n",
       " 67.88955309755072,\n",
       " 67.82142828151109,\n",
       " 67.71055201518767,\n",
       " 68.13865424669248,\n",
       " 68.12684775559777,\n",
       " 67.7648659084461,\n",
       " 67.66010355368635,\n",
       " 68.33715974593775,\n",
       " 67.94659579509504,\n",
       " 68.27960352940143,\n",
       " 68.56248328798722,\n",
       " 68.12087593850688,\n",
       " 67.93727357704701,\n",
       " 68.19250563680839,\n",
       " 68.45440304814753,\n",
       " 67.89079743227313,\n",
       " 68.07652098531473,\n",
       " 68.09906577296053,\n",
       " 68.30469348367238,\n",
       " 68.04275731087309,\n",
       " 67.8716389755987,\n",
       " 67.812283075654,\n",
       " 68.39483070802613,\n",
       " 67.8341499091258,\n",
       " 68.00565693669064,\n",
       " 67.89588268036265,\n",
       " 68.17838069333433,\n",
       " 68.31676684516223,\n",
       " 67.84441184121292,\n",
       " 68.47238853260532,\n",
       " 68.11539114110896,\n",
       " 68.12306388767347,\n",
       " 68.22022993851832,\n",
       " 68.41169156698189,\n",
       " 67.65272912298062,\n",
       " 67.65837134375455,\n",
       " 68.36297073613558,\n",
       " 68.27475492427884,\n",
       " 68.32653721000959,\n",
       " 67.9810995702398,\n",
       " 68.32815317498003,\n",
       " 68.14726461225146,\n",
       " 68.48269508242596,\n",
       " 68.16655959113656,\n",
       " 68.24870653575148,\n",
       " 68.16284017882688,\n",
       " 68.3079318212203,\n",
       " 68.2177337429577,\n",
       " 68.0293946202769,\n",
       " 68.1222890766523,\n",
       " 68.38620856047258,\n",
       " 68.10163389553199,\n",
       " 67.78701353557564,\n",
       " 67.95581271422503,\n",
       " 68.33484955447314,\n",
       " 68.28089143844207,\n",
       " 67.98047442872061,\n",
       " 68.2196454911671,\n",
       " 68.51425289525463,\n",
       " 67.49338295855644,\n",
       " 68.01972119260674,\n",
       " 68.61291264761341,\n",
       " 68.37376440876407,\n",
       " 68.22394500205927,\n",
       " 68.40840292460254,\n",
       " 68.40132468743398,\n",
       " 68.4458581171426,\n",
       " 68.59701980035685,\n",
       " 67.94998829100389,\n",
       " 68.3067558982975,\n",
       " 67.86435381026249,\n",
       " 67.92684572948617,\n",
       " 67.79170888892025,\n",
       " 68.09894900504257,\n",
       " 67.83862259722048,\n",
       " 67.89640476041616,\n",
       " 68.08965093362441,\n",
       " 67.86682809142529,\n",
       " 68.39010654695588,\n",
       " 68.2235696110079,\n",
       " 67.99128670199475,\n",
       " 68.39113634350663,\n",
       " 67.98401143208463,\n",
       " 68.06277656260471,\n",
       " 68.28327304620262,\n",
       " 67.72163391777822,\n",
       " 68.6371256129073,\n",
       " 67.97770880232326,\n",
       " 68.11773635820937,\n",
       " 67.78895312889496,\n",
       " 68.32915170259649,\n",
       " 68.23352954828776,\n",
       " 68.36072151819303,\n",
       " 68.07195281953648,\n",
       " 68.20592111779139,\n",
       " 67.98362582379191,\n",
       " 67.98329413757006,\n",
       " 67.91916652037143,\n",
       " 67.86390200984083,\n",
       " 68.37991659818525,\n",
       " 67.52251221427208,\n",
       " 68.0888552125252,\n",
       " 68.09915200789277,\n",
       " 67.95264583237159,\n",
       " 67.8731692676865,\n",
       " 68.03913272668049,\n",
       " 68.34791221905999,\n",
       " 68.03053592286163,\n",
       " 68.31207234238909,\n",
       " 68.17151592989099,\n",
       " 68.51053882806981,\n",
       " 68.12224847993396,\n",
       " 67.72411373197671,\n",
       " 67.85330421155741,\n",
       " 68.17190437033723,\n",
       " 67.8226710186998,\n",
       " 68.29231530460218,\n",
       " 67.9438692423031,\n",
       " 68.44249459188981,\n",
       " 67.87411722114886,\n",
       " 68.24706576187454,\n",
       " 68.10619054663702,\n",
       " 68.17716910463716,\n",
       " 68.04147333597406,\n",
       " 67.66756513508828,\n",
       " 68.21649896265109,\n",
       " 68.2236438170381,\n",
       " 68.25809173536318,\n",
       " 68.1234599798491,\n",
       " 68.24897279418322,\n",
       " 68.18433156878113,\n",
       " 68.4023079743479,\n",
       " 67.84183848016994,\n",
       " 68.284973027405,\n",
       " 68.13502072424733,\n",
       " 67.9672508947456,\n",
       " 68.53546496972824,\n",
       " 68.04750979175263,\n",
       " 68.18140192772455,\n",
       " 67.92901738865143,\n",
       " 68.06304138489837,\n",
       " 68.1678623687696,\n",
       " 67.90759059002984,\n",
       " 68.19222240954834,\n",
       " 67.9055334323972,\n",
       " 68.69238369658926,\n",
       " 68.11868160680794,\n",
       " 68.42083311703955,\n",
       " 68.08081758981733,\n",
       " 68.23327376762782,\n",
       " 68.29696709645802,\n",
       " 68.16992157658262,\n",
       " 68.1141431359616,\n",
       " 67.92782588809959,\n",
       " 67.95284254931056,\n",
       " 67.92394114877962,\n",
       " 68.2476330951833,\n",
       " 68.24441852241208,\n",
       " 68.15770614883948,\n",
       " 68.07827409303283,\n",
       " 67.94596072456359,\n",
       " 68.18054648179292,\n",
       " 68.15538858566273,\n",
       " 68.31642206611853,\n",
       " 68.12791142590575,\n",
       " 68.08106101393436,\n",
       " 68.1682449135423,\n",
       " 68.31165439064516,\n",
       " 67.86903717658323,\n",
       " 67.95123814542235,\n",
       " 68.30389895654349,\n",
       " 67.7905887252944,\n",
       " 68.10473861646307,\n",
       " 68.78215836989004,\n",
       " 68.34597942130836,\n",
       " 67.88285492182126,\n",
       " 68.46497280523324,\n",
       " 68.3404829754057,\n",
       " 68.34699762482191,\n",
       " 68.28728709882586,\n",
       " 68.3597606226825,\n",
       " 68.17444347505376,\n",
       " 68.04343203170835,\n",
       " 68.04627144172139,\n",
       " 67.73987031304186,\n",
       " 68.07306422774629,\n",
       " 68.21971914821322,\n",
       " 68.15005832158032,\n",
       " 68.01051846008352,\n",
       " 67.97551308643357,\n",
       " 68.34361885574367,\n",
       " 68.4058344017954,\n",
       " 68.54102424177216,\n",
       " 67.86596385237424,\n",
       " 68.32322534225419,\n",
       " 67.96751104045983,\n",
       " 68.50085541618712,\n",
       " 68.3468967453124,\n",
       " 68.4169905258618,\n",
       " 68.20270049928378,\n",
       " 68.20027137794682,\n",
       " 68.2952515894848,\n",
       " 68.23059291310285,\n",
       " 67.99770155870142,\n",
       " 68.27585854855413,\n",
       " 68.04745689675133,\n",
       " 67.96645648465868,\n",
       " 68.41987136767608,\n",
       " 67.9997471221468,\n",
       " 68.08527762375559,\n",
       " 68.02246998756935,\n",
       " 68.35681613602479,\n",
       " 68.69818969357934,\n",
       " 68.1260757378239,\n",
       " 68.10588851368696,\n",
       " 67.78515695339247,\n",
       " 68.11355476104865,\n",
       " 68.4009436206416,\n",
       " 68.0762118238827,\n",
       " 67.75382405721619,\n",
       " 67.97119428291342,\n",
       " 68.24530475882139,\n",
       " 68.61911608452192,\n",
       " 68.50709726601022,\n",
       " 68.13057414204219,\n",
       " 68.33669735600087,\n",
       " 67.79214734271127,\n",
       " 68.05380535070366,\n",
       " 68.16366869145375,\n",
       " 68.63624632282328,\n",
       " 67.64348943870125,\n",
       " 68.02089642149461,\n",
       " 67.84835895558328,\n",
       " 68.66104417993881,\n",
       " 68.43538296522779,\n",
       " 68.10297673032618,\n",
       " 68.10491433391674,\n",
       " 68.10772463392958,\n",
       " 68.12872640576973,\n",
       " 67.94078167979816,\n",
       " 68.67730035906136,\n",
       " 67.93495970697285,\n",
       " 68.24421157599723,\n",
       " 67.94538319999023,\n",
       " 68.13314104826975,\n",
       " 67.63928004678671,\n",
       " 67.73833433397434,\n",
       " 67.90359357967951,\n",
       " 67.78615638068729,\n",
       " 68.21395685833113,\n",
       " 67.97891989864894,\n",
       " 68.45704492298466,\n",
       " 67.93848487387373,\n",
       " 67.89059403906268,\n",
       " 68.49112560039559,\n",
       " 68.65562395973066,\n",
       " 68.31193968436074,\n",
       " 68.09653154715491,\n",
       " 68.3093631577088,\n",
       " 68.00420597266357,\n",
       " 67.68532609913409,\n",
       " 68.12114416207758,\n",
       " 68.50748961846128,\n",
       " 68.38403861683013,\n",
       " 68.04124560529294,\n",
       " 67.90621193978058,\n",
       " 67.9705599083906,\n",
       " 68.10953140712417,\n",
       " 68.46523711796821,\n",
       " 68.37305101804326,\n",
       " 67.93293100504876,\n",
       " 68.23609628717021,\n",
       " 68.35341535606375,\n",
       " 68.03148951652769,\n",
       " 68.15720730592942,\n",
       " 68.65284728482821,\n",
       " 68.2758988466037,\n",
       " 68.22706985107874,\n",
       " 68.52306878587417,\n",
       " 68.14614990284717,\n",
       " 67.82701311035571,\n",
       " 68.08473069384232,\n",
       " 68.16766440257112,\n",
       " 68.34800642809668,\n",
       " 68.43186523868653,\n",
       " 68.33549810645229,\n",
       " 68.3989913924644,\n",
       " 67.96350864251643,\n",
       " 67.92640027218019,\n",
       " 68.15063904319481,\n",
       " 67.64747246502728,\n",
       " 68.04763548648769,\n",
       " 68.68185352621909,\n",
       " 68.18253004421535,\n",
       " 68.05812827478259,\n",
       " 68.14828505117276,\n",
       " 68.16092203442189,\n",
       " 68.43814335183892,\n",
       " 67.98306285376665,\n",
       " 67.93416295157279,\n",
       " 67.91608510449498,\n",
       " 68.21625605380208,\n",
       " 67.87163186150315,\n",
       " 68.5014166785011,\n",
       " 67.99699947639454,\n",
       " 68.5752372001264,\n",
       " 68.3051494429558,\n",
       " 68.14293635473327,\n",
       " 68.05871083313183,\n",
       " 68.33429312426692,\n",
       " 68.37983485959457,\n",
       " 68.03585580999689,\n",
       " 68.08299521239579,\n",
       " 67.96029215294904,\n",
       " 67.89805281521555,\n",
       " 68.10613859449118,\n",
       " 68.10142549320452,\n",
       " 68.20180897628735,\n",
       " 68.33072427901982,\n",
       " 67.80259618747654,\n",
       " 67.87845853723364,\n",
       " 68.0856858552772,\n",
       " 68.19915579492923,\n",
       " 68.00732697437874,\n",
       " 68.2169507391381,\n",
       " 68.3563486653133,\n",
       " 68.11147395098254,\n",
       " 68.14208719964068,\n",
       " 67.67257225467444,\n",
       " 67.98780509648472,\n",
       " 68.05200886560475,\n",
       " 68.14109408743393,\n",
       " 68.00896981305348,\n",
       " 68.36309262096127,\n",
       " 68.06676727031046,\n",
       " 67.90497242963474,\n",
       " 67.8112447395905,\n",
       " 68.10236925265903,\n",
       " 67.87944952776432,\n",
       " 67.88201445294725,\n",
       " 68.16506732625086,\n",
       " 68.13073441061887,\n",
       " 67.8783289547436,\n",
       " 68.04506050267467,\n",
       " 68.54962665101736,\n",
       " 68.00932308473061,\n",
       " 68.43117298962822,\n",
       " 67.85321128225158,\n",
       " 67.94752112400056,\n",
       " 68.15198888423272,\n",
       " 68.30058651741614,\n",
       " 68.02697472695962,\n",
       " 68.06162500083857,\n",
       " 67.96908602095131,\n",
       " 68.38172105417974,\n",
       " 67.69880140395072,\n",
       " 68.39653960795124,\n",
       " 67.63831160458255,\n",
       " 68.13950382534755,\n",
       " 67.62143453994928,\n",
       " 67.8874565102218,\n",
       " 67.97262806004589,\n",
       " 68.17348501003424,\n",
       " 67.98820844228989,\n",
       " 68.02671622259531,\n",
       " 67.87471786634947,\n",
       " 67.82446049351319,\n",
       " 67.87158096338058,\n",
       " 68.54439983420225,\n",
       " 67.79752609324211,\n",
       " 68.15115061512664,\n",
       " 68.1862534179455,\n",
       " 68.20049334007662,\n",
       " 68.30878747461061,\n",
       " 68.31450412941925,\n",
       " 67.86233231899553,\n",
       " 68.35323665824839,\n",
       " 68.25308709923083,\n",
       " 68.19589597974861,\n",
       " 67.81261121804957,\n",
       " 68.25262546736116,\n",
       " 67.528081704376,\n",
       " 68.26977326955064,\n",
       " 67.70005210999062,\n",
       " 68.31588650258188,\n",
       " 68.20978203211088,\n",
       " 67.93828460942764,\n",
       " 68.14391395589787,\n",
       " 67.92861691629419,\n",
       " 68.22735603712721,\n",
       " 68.23445480522054,\n",
       " 68.05224962637527,\n",
       " 68.26930848758374,\n",
       " 67.7460541550157,\n",
       " 68.12588077652492,\n",
       " 68.08463295489167,\n",
       " 68.27235048795592,\n",
       " 68.2414281744686,\n",
       " 68.17884196601821,\n",
       " 67.9663278725054,\n",
       " 68.19524048192477,\n",
       " 68.45455707101615,\n",
       " 68.15153139676951,\n",
       " 68.22879881469,\n",
       " 67.9624497236525,\n",
       " 68.34760476651911,\n",
       " 68.19168742110897,\n",
       " 67.83032323855285,\n",
       " 67.68665030837344,\n",
       " 68.30491463880847,\n",
       " 68.5248736249945,\n",
       " 67.9589827870921,\n",
       " 68.20545293072648,\n",
       " 67.86079059834998,\n",
       " 68.24182407008972,\n",
       " 67.50044751049198,\n",
       " 68.41850540500377,\n",
       " 67.94271616625375,\n",
       " 67.66480555678356,\n",
       " 68.70073724525584,\n",
       " 68.10856673674726,\n",
       " 68.17079953853545,\n",
       " 68.17557774342802,\n",
       " 68.37726649439105,\n",
       " 68.38591806171854,\n",
       " 68.15550338685597,\n",
       " 68.31341512167398,\n",
       " 68.06039290911012,\n",
       " 67.90176603713213,\n",
       " 67.48748737166795,\n",
       " 68.10933503664397,\n",
       " 68.12940688887376,\n",
       " 68.12993137095363,\n",
       " 68.21014731728863,\n",
       " 67.9431599944855,\n",
       " 68.14960758123618,\n",
       " 67.98254702507163,\n",
       " 68.56028377929026,\n",
       " 67.95569028760131,\n",
       " 67.77574136076313,\n",
       " 68.05075816235559,\n",
       " 68.13882508428709,\n",
       " 68.09756387612806,\n",
       " 67.78558266218764,\n",
       " 68.48381407945291,\n",
       " 68.24758443179451,\n",
       " 67.91918402715147,\n",
       " 67.99177796623688,\n",
       " 68.52218440146922,\n",
       " 67.97935287809877,\n",
       " 67.97620961686007,\n",
       " 68.43675640916683,\n",
       " 68.15566963766646,\n",
       " 68.14807251039109,\n",
       " 68.19618869679734,\n",
       " 68.25370420356383,\n",
       " 68.23034624901035,\n",
       " 67.96745132591477,\n",
       " 68.16291314304421,\n",
       " 68.05436354755737,\n",
       " 68.39078181386988,\n",
       " 68.40727450449205,\n",
       " 68.31672145887664,\n",
       " 68.34288992414112,\n",
       " 67.9337109434856,\n",
       " 68.20145157238035,\n",
       " 67.68506816324124,\n",
       " 68.25519529464228,\n",
       " 67.95178419879167,\n",
       " 68.63852697666435,\n",
       " 67.99424328472203,\n",
       " 68.45889845870916,\n",
       " 68.65515729353298,\n",
       " 68.59154300889668,\n",
       " 68.03312493034187,\n",
       " 68.54862384095789,\n",
       " 68.16701731944387,\n",
       " 68.30544396932643,\n",
       " 67.9524803830161,\n",
       " 68.05865722282539,\n",
       " 68.1231635745799,\n",
       " 68.02592226366124,\n",
       " 68.07754928921065,\n",
       " 67.93200378946132,\n",
       " 68.55302768212036,\n",
       " 68.37668012625313,\n",
       " 68.28541258169068,\n",
       " 67.80206247414942,\n",
       " 68.05435201290652,\n",
       " 67.52109101395074,\n",
       " 68.21814631714342,\n",
       " 68.07212733302535,\n",
       " 68.01558954640247,\n",
       " 68.12046297799647,\n",
       " 67.79929281570469,\n",
       " 68.38304920994706,\n",
       " 68.30709467332494,\n",
       " 68.46048257101721,\n",
       " 68.25845957590417,\n",
       " 68.19304278750377,\n",
       " 67.95475190453634,\n",
       " 68.0311030823816,\n",
       " 67.72681402539392,\n",
       " 67.9273852772092,\n",
       " 68.05551571954278,\n",
       " 68.24272379398943,\n",
       " 67.90966816718222,\n",
       " 67.9842982176066,\n",
       " 68.11533170593167,\n",
       " 67.73711033830565,\n",
       " 67.57433822599239,\n",
       " 68.18410003129475,\n",
       " 67.97353440350263,\n",
       " 68.07885896741055,\n",
       " 68.15850764585906,\n",
       " 68.0888192290659,\n",
       " 68.19372419894697,\n",
       " 68.25690103829162,\n",
       " 68.01643122362951,\n",
       " 67.93431677726223,\n",
       " 68.16124794342042,\n",
       " 67.97395263483433,\n",
       " 68.17075932304846,\n",
       " 68.1562673186758,\n",
       " 68.32585378577754,\n",
       " 67.97131766618193,\n",
       " 68.6982979664321,\n",
       " 67.65693900329921,\n",
       " 67.8961570177023,\n",
       " 68.29448718006707,\n",
       " 67.93058854807873,\n",
       " 68.24018820393735,\n",
       " 68.19622568850089,\n",
       " 68.25305088069426,\n",
       " 68.40821850263784,\n",
       " 68.21213197151026,\n",
       " 68.00919715739536,\n",
       " 68.04427763739719,\n",
       " 68.0164517508253,\n",
       " 68.0449511141398,\n",
       " 68.3182744706053,\n",
       " 67.8413746485166,\n",
       " 68.17847905281029,\n",
       " 67.67068669310216,\n",
       " 68.54189843423978,\n",
       " 68.38135067102685,\n",
       " 67.84127785316511,\n",
       " 68.2296768016904,\n",
       " 68.01325646804236,\n",
       " 68.25417670979844,\n",
       " 68.08655082550709,\n",
       " 67.93059555295909,\n",
       " 68.25504274714831,\n",
       " 67.57906426231293,\n",
       " 67.86916371314165,\n",
       " 68.14200057856858,\n",
       " 68.42455038850169,\n",
       " 68.06052439822874,\n",
       " 67.91182351917858,\n",
       " 68.06538247239259,\n",
       " 68.15371902411862,\n",
       " 68.2907218695935,\n",
       " 68.1552167381107,\n",
       " 68.3598221241178,\n",
       " 68.17530256779045,\n",
       " 68.26782458397881,\n",
       " 68.27302630088602,\n",
       " 68.38916926064248,\n",
       " 68.30258360472611,\n",
       " 68.0742975292792,\n",
       " 67.919976411992,\n",
       " 68.0380307770311,\n",
       " 67.93920205186859,\n",
       " 68.25761906361771,\n",
       " 67.9658874421847,\n",
       " 67.99705192279693,\n",
       " 67.9247426997889,\n",
       " 68.08345874971228,\n",
       " 68.12970652629448,\n",
       " 68.09476300940617,\n",
       " 67.7080940988972,\n",
       " 68.07506358553789,\n",
       " 68.26109643192676,\n",
       " 68.15947739334312,\n",
       " 68.15334584653205,\n",
       " 68.2098674662541,\n",
       " 67.77981060137797,\n",
       " 67.89956379573637,\n",
       " 67.95611752775021,\n",
       " 67.95783384211562,\n",
       " 68.51360896012454,\n",
       " 67.86251087068595,\n",
       " 68.34975393865787,\n",
       " 68.09988044171419,\n",
       " 68.36894952036052,\n",
       " 68.05972474996678,\n",
       " 67.87449757178989,\n",
       " 68.52270052488187,\n",
       " 67.81439314998676,\n",
       " 68.30908430441552,\n",
       " 67.90616278313001,\n",
       " 68.50618764436071,\n",
       " 68.44356053942244,\n",
       " 68.66717682402658,\n",
       " 67.79436492876971,\n",
       " 67.77197335795947,\n",
       " 68.4523474756871,\n",
       " 68.0093663582684,\n",
       " 68.23766822396665,\n",
       " 68.23365094204738,\n",
       " 67.98725781193446,\n",
       " 68.06890114357913,\n",
       " 68.11032926779043,\n",
       " 68.31985806072213,\n",
       " 68.1005934088077,\n",
       " 68.11643464578968,\n",
       " 68.0843241438236,\n",
       " 68.22435264917596,\n",
       " 68.005200829884,\n",
       " 68.14333983241185,\n",
       " 67.94431209122405,\n",
       " 68.55002942922954,\n",
       " 68.31051836414623,\n",
       " 68.67955527527442,\n",
       " 67.64276441600806,\n",
       " 68.46380445432501,\n",
       " 67.48628709647963,\n",
       " 68.31816636161778,\n",
       " 67.88705896600813,\n",
       " 68.41885587576436,\n",
       " 68.12259069061109,\n",
       " 68.19403403805224,\n",
       " 68.15065149179536,\n",
       " 67.961338841091,\n",
       " 67.73702760044056,\n",
       " 68.5109002028686,\n",
       " 68.38046052140658,\n",
       " 68.22489005411917,\n",
       " 68.38436193724479,\n",
       " 67.96515114263431,\n",
       " 68.14377186043079,\n",
       " 68.22530075738091,\n",
       " 67.83601033102093,\n",
       " 68.05414967972149,\n",
       " 67.99409182804804,\n",
       " 68.53190225113393,\n",
       " 68.30335123263268,\n",
       " 68.33375695895984,\n",
       " 67.99338142231785,\n",
       " 67.88097060771875,\n",
       " 67.86114600626368,\n",
       " 68.13481321381894,\n",
       " 67.65855346212433,\n",
       " 68.0033261439428,\n",
       " 68.11064804421157,\n",
       " 68.06300984182634,\n",
       " 67.8920730692314,\n",
       " 68.37866904872345,\n",
       " 68.11300391520483,\n",
       " 68.32233939559895,\n",
       " 67.92142445551261,\n",
       " 68.20642398755399,\n",
       " 67.86258403506373,\n",
       " 68.24206088847494,\n",
       " 68.13882910407104,\n",
       " 67.98952693968923,\n",
       " 68.31356558720674,\n",
       " 67.72458165500184,\n",
       " 68.36138909560962,\n",
       " 68.5103617299338,\n",
       " 67.89938935765669,\n",
       " 67.68356925415435,\n",
       " 68.06983805627817,\n",
       " 68.34424244639251,\n",
       " 67.70611254526295,\n",
       " 68.16103467343423,\n",
       " 68.46528412169593,\n",
       " 68.51776442447351,\n",
       " 67.93955729668637,\n",
       " 68.00426886747626,\n",
       " 68.29258088035635,\n",
       " 68.36138219937773,\n",
       " 67.86882344464237,\n",
       " 67.97731710840957,\n",
       " 68.37930835103788,\n",
       " 68.36713093812158,\n",
       " 68.06662461094669,\n",
       " 68.16239656129721,\n",
       " 68.36027836930914,\n",
       " 67.81155510369703,\n",
       " 68.4797278905735,\n",
       " 68.00318136073048,\n",
       " 68.46679417426203,\n",
       " 68.14229126528674,\n",
       " 68.19509717465827,\n",
       " 67.83959229105122,\n",
       " 67.99189785619187,\n",
       " 68.19427758482536,\n",
       " 67.92178123005846,\n",
       " 68.231355408726,\n",
       " 67.94874534227033,\n",
       " 68.4181759196824,\n",
       " 67.94918703943218,\n",
       " 68.03834337837783,\n",
       " 68.2476621180056,\n",
       " 68.17586694734088,\n",
       " 68.333667283003,\n",
       " 67.79112531537736,\n",
       " 68.04398316255617,\n",
       " 68.1782600985751,\n",
       " 68.07671317033679,\n",
       " 67.69780655085684,\n",
       " 68.05167192916116,\n",
       " 68.11103937121891,\n",
       " 67.84868102771324,\n",
       " 68.29555680339723,\n",
       " 67.59457256164069,\n",
       " 68.23927238925236,\n",
       " 68.16875357970908,\n",
       " 67.9400127878866,\n",
       " 68.35047126854165,\n",
       " 68.52351735714997,\n",
       " 68.17956406346654,\n",
       " 68.30473807040875,\n",
       " 67.80104488650775,\n",
       " 67.9614121689682,\n",
       " 68.21492019879065,\n",
       " 68.04177749400709,\n",
       " 68.22173778926182,\n",
       " 67.7757509094332,\n",
       " 68.08821811569602,\n",
       " 68.80533494066783,\n",
       " 68.33579021975375,\n",
       " 68.15222327865868,\n",
       " 68.32134171459954,\n",
       " 68.5371474322327,\n",
       " 67.654502535849,\n",
       " 68.3021057856193,\n",
       " 68.07888464569483,\n",
       " 67.84885252740833,\n",
       " 68.30534218655212,\n",
       " 68.18764744834684,\n",
       " 68.43959441282354,\n",
       " 68.07671082778155,\n",
       " 68.12308317178665,\n",
       " 67.44812746150468,\n",
       " 67.91465627785223,\n",
       " 68.19068311873473,\n",
       " 67.97616894827623,\n",
       " 67.53637767107455,\n",
       " 68.32572933436602,\n",
       " 68.03352173202981,\n",
       " 68.02393102589777,\n",
       " 67.82217722352416,\n",
       " 67.85530211300733,\n",
       " 68.55551143718148,\n",
       " 67.85805287377272,\n",
       " 68.04411662379624,\n",
       " 67.93741128969343,\n",
       " 68.30484962360383,\n",
       " 67.98312425007795,\n",
       " 68.08348349715337,\n",
       " 68.20736558992782,\n",
       " 67.73673043198032,\n",
       " 68.03650888345142,\n",
       " 68.25730078988025,\n",
       " 68.34227857126135,\n",
       " 68.53855429097517,\n",
       " 68.0979109215544,\n",
       " 67.99167957692782,\n",
       " 68.01497579543886,\n",
       " 68.18674832733211,\n",
       " 67.96314229611643,\n",
       " 68.11673456286138,\n",
       " 67.82704884476068,\n",
       " 68.35986376892076,\n",
       " 68.07284476302793,\n",
       " 68.07318367306576,\n",
       " 68.0885123654195,\n",
       " 68.22744762194797,\n",
       " 67.97867296236328,\n",
       " 68.51152800438074,\n",
       " 68.02018561175721,\n",
       " 67.95212610503665,\n",
       " 67.96163499504742,\n",
       " 68.09010462156239,\n",
       " 67.93889744989745,\n",
       " 67.74933444454396,\n",
       " 68.24337726809271,\n",
       " 68.10353872437108,\n",
       " 67.89027743485262,\n",
       " 67.90857488835111,\n",
       " 68.25571801120189,\n",
       " 68.05623330560573,\n",
       " 68.0463837679384,\n",
       " 67.47372667626101,\n",
       " 67.86002094966689,\n",
       " 68.16641778796934,\n",
       " 68.55995965578954,\n",
       " 68.58982102176417,\n",
       " 68.05117372054819,\n",
       " 68.42987141143772,\n",
       " 68.41053274262732,\n",
       " 68.24082660933684,\n",
       " 68.01154964037265,\n",
       " 68.43334342953344,\n",
       " 68.17925813753051,\n",
       " 68.21699422018855,\n",
       " 68.15205124564271,\n",
       " 68.39344737824939,\n",
       " 67.92031117911917,\n",
       " 68.08819376210553,\n",
       " 67.91087507458744,\n",
       " 68.12579815930691,\n",
       " 68.2641909404206,\n",
       " 67.98433010766372,\n",
       " 68.14782849617133,\n",
       " 68.21909291870455,\n",
       " 68.46859869873805,\n",
       " 68.02264696939791,\n",
       " 68.03255574217353,\n",
       " 68.46730327233098,\n",
       " 68.00779369929802,\n",
       " 68.22124912194037,\n",
       " 67.87825729156478,\n",
       " 68.39936156752425,\n",
       " 67.82085771488738,\n",
       " 68.01208900779044,\n",
       " 68.25863105597836,\n",
       " 68.03803617621413,\n",
       " 68.37209251083863,\n",
       " 68.55002292565851,\n",
       " 68.68440263483632,\n",
       " 68.06046094121372,\n",
       " 68.53853515055626,\n",
       " 68.02417209548783,\n",
       " 68.00633370387169,\n",
       " 67.77423833075291,\n",
       " 67.60153753129637,\n",
       " 68.12799447133997,\n",
       " 68.00470524781907,\n",
       " 68.24009295085986,\n",
       " 68.40961125405083,\n",
       " 68.28063982997479,\n",
       " 68.21999257493721,\n",
       " 67.92722814354637,\n",
       " 67.70817515917167,\n",
       " 68.24326272171014,\n",
       " 67.93389001710081,\n",
       " 68.1783845038654,\n",
       " 68.22902022570067,\n",
       " 67.92927914760894,\n",
       " 67.99443806120458,\n",
       " 68.02423132832902,\n",
       " 67.79423693621108,\n",
       " 68.01435649002507,\n",
       " 68.52255761583291,\n",
       " 68.27272550946711,\n",
       " 67.738299118216,\n",
       " 68.25566332034691,\n",
       " 68.08739226282678,\n",
       " 68.06411638076467,\n",
       " 68.11743829117097,\n",
       " 67.94909326486747,\n",
       " 68.10648720042343,\n",
       " 68.46643969264555,\n",
       " 68.37195040799817,\n",
       " 68.30057218115886,\n",
       " 68.57501608889305,\n",
       " 67.79528360405544,\n",
       " 67.81020834945328,\n",
       " 67.95310851426981,\n",
       " 68.02243667130077,\n",
       " 67.98711187545723,\n",
       " 67.68317653654918,\n",
       " 68.29995073488573,\n",
       " 68.26693785801628,\n",
       " 68.16162689237579,\n",
       " 67.97913167919823,\n",
       " 68.20848608324809,\n",
       " 68.0356868555573,\n",
       " 68.37247747631139,\n",
       " 67.9557966817238,\n",
       " 68.31520454229599,\n",
       " 68.13540899206855,\n",
       " 67.98459825692241,\n",
       " 67.79543358153687,\n",
       " 68.16329137271251,\n",
       " 68.2881804791623,\n",
       " ...]"
      ]
     },
     "execution_count": 28,
     "metadata": {},
     "output_type": "execute_result"
    }
   ],
   "source": [
    "coff_means"
   ]
  },
  {
   "cell_type": "code",
   "execution_count": null,
   "metadata": {},
   "outputs": [],
   "source": []
  },
  {
   "cell_type": "code",
   "execution_count": 43,
   "metadata": {},
   "outputs": [],
   "source": [
    "test20=[]\n",
    "\n",
    "for _ in range (20):\n",
    "   \n",
    "    test21=[1,2,3,4,5,6,7,8,9,10]\n",
    "    test22=(random.choice(test21))\n",
    "    \n",
    "    test20.append(test22)\n",
    "    "
   ]
  },
  {
   "cell_type": "code",
   "execution_count": 44,
   "metadata": {},
   "outputs": [
    {
     "data": {
      "text/plain": [
       "[9, 6, 10, 5, 7, 6, 1, 6, 3, 7, 9, 7, 1, 1, 3, 8, 8, 2, 2, 4]"
      ]
     },
     "execution_count": 44,
     "metadata": {},
     "output_type": "execute_result"
    }
   ],
   "source": [
    "test20"
   ]
  },
  {
   "cell_type": "code",
   "execution_count": null,
   "metadata": {},
   "outputs": [],
   "source": []
  },
  {
   "cell_type": "code",
   "execution_count": 10,
   "metadata": {},
   "outputs": [
    {
     "data": {
      "image/png": "[encoded data removed]",
      "text/plain": [
       "<Figure size 432x288 with 1 Axes>"
      ]
     },
     "metadata": {
      "needs_background": "light"
     },
     "output_type": "display_data"
    }
   ],
   "source": [
    "plt.hist(nocoff_means, alpha=0.5);\n",
    "plt.hist(coff_means, alpha=0.5);"
   ]
  },
  {
   "cell_type": "code",
   "execution_count": 45,
   "metadata": {},
   "outputs": [
    {
     "data": {
      "image/png": "[encoded data removed]",
      "text/plain": [
       "<Figure size 432x288 with 1 Axes>"
      ]
     },
     "metadata": {
      "needs_background": "light"
     },
     "output_type": "display_data"
    }
   ],
   "source": [
    "plt.hist(diffs, alpha=0.5);"
   ]
  },
  {
   "cell_type": "code",
   "execution_count": 46,
   "metadata": {},
   "outputs": [],
   "source": [
    "null_vals=np.random.normal(0, np.std(diffs),10000)"
   ]
  },
  {
   "cell_type": "code",
   "execution_count": 48,
   "metadata": {},
   "outputs": [
    {
     "data": {
      "image/png": "[encoded data removed]",
      "text/plain": [
       "<Figure size 432x288 with 1 Axes>"
      ]
     },
     "metadata": {
      "needs_background": "light"
     },
     "output_type": "display_data"
    }
   ],
   "source": [
    "## #Here is the sampling distribution of the di\n",
    "plt.hist(null_vals);"
   ]
  },
  {
   "cell_type": "code",
   "execution_count": null,
   "metadata": {},
   "outputs": [],
   "source": []
  },
  {
   "cell_type": "markdown",
   "metadata": {},
   "source": [
    "Quiz 1 : Use the first question above to match the null and alternative to appropriate statements. \n",
    "\n",
    "### Null \n",
    "The average height for all coffee drinkers is the same as the average height for all non-coffee drinkers.\n",
    "\n",
    "### Alternative\n",
    "The average height for all coffee drinkers is not the same as the average height for all non-coffee drinkers"
   ]
  },
  {
   "cell_type": "code",
   "execution_count": null,
   "metadata": {},
   "outputs": [],
   "source": []
  },
  {
   "cell_type": "markdown",
   "metadata": {},
   "source": [
    "Quiz 2: Use the second question above to match the null and alternative to the appropriate statements."
   ]
  },
  {
   "cell_type": "markdown",
   "metadata": {},
   "source": [
    "### Null\n",
    "The average height for all coffee drinkers is the same or greater than the average height for all non-coffee drinkers.\n",
    "\n",
    "### Alternative\n",
    "The average height for all coffee drinkers is less than the average height for all non-coffee drinks."
   ]
  },
  {
   "cell_type": "code",
   "execution_count": null,
   "metadata": {},
   "outputs": [],
   "source": []
  },
  {
   "cell_type": "code",
   "execution_count": null,
   "metadata": {},
   "outputs": [],
   "source": []
  },
  {
   "cell_type": "markdown",
   "metadata": {},
   "source": [
    "### Calculating P-value"
   ]
  },
  {
   "cell_type": "markdown",
   "metadata": {},
   "source": [
    "-Simulate the values of your statistic that are possible from the null.\n",
    "\n",
    "-Calculate the value of the statistic you actually obtained in your data.\n",
    "\n",
    "-Compare your statistic to the values from the null.\n",
    "\n",
    "-Calculate the proportion of null values that are considered extreme based on your alternative."
   ]
  },
  {
   "cell_type": "code",
   "execution_count": 115,
   "metadata": {},
   "outputs": [
    {
     "data": {
      "text/html": [
       "<div>\n",
       "<style scoped>\n",
       "    .dataframe tbody tr th:only-of-type {\n",
       "        vertical-align: middle;\n",
       "    }\n",
       "\n",
       "    .dataframe tbody tr th {\n",
       "        vertical-align: top;\n",
       "    }\n",
       "\n",
       "    .dataframe thead th {\n",
       "        text-align: right;\n",
       "    }\n",
       "</style>\n",
       "<table border=\"1\" class=\"dataframe\">\n",
       "  <thead>\n",
       "    <tr style=\"text-align: right;\">\n",
       "      <th></th>\n",
       "      <th>user_id</th>\n",
       "      <th>age</th>\n",
       "      <th>drinks_coffee</th>\n",
       "      <th>height</th>\n",
       "    </tr>\n",
       "  </thead>\n",
       "  <tbody>\n",
       "    <tr>\n",
       "      <th>2101</th>\n",
       "      <td>7506</td>\n",
       "      <td>&lt;21</td>\n",
       "      <td>False</td>\n",
       "      <td>64.588932</td>\n",
       "    </tr>\n",
       "    <tr>\n",
       "      <th>1619</th>\n",
       "      <td>2488</td>\n",
       "      <td>&lt;21</td>\n",
       "      <td>False</td>\n",
       "      <td>64.251475</td>\n",
       "    </tr>\n",
       "    <tr>\n",
       "      <th>2120</th>\n",
       "      <td>5673</td>\n",
       "      <td>&gt;=21</td>\n",
       "      <td>True</td>\n",
       "      <td>73.311031</td>\n",
       "    </tr>\n",
       "    <tr>\n",
       "      <th>1050</th>\n",
       "      <td>7554</td>\n",
       "      <td>&gt;=21</td>\n",
       "      <td>True</td>\n",
       "      <td>67.477379</td>\n",
       "    </tr>\n",
       "    <tr>\n",
       "      <th>1865</th>\n",
       "      <td>2253</td>\n",
       "      <td>&gt;=21</td>\n",
       "      <td>True</td>\n",
       "      <td>74.242965</td>\n",
       "    </tr>\n",
       "  </tbody>\n",
       "</table>\n",
       "</div>"
      ],
      "text/plain": [
       "      user_id   age  drinks_coffee     height\n",
       "2101     7506   <21          False  64.588932\n",
       "1619     2488   <21          False  64.251475\n",
       "2120     5673  >=21           True  73.311031\n",
       "1050     7554  >=21           True  67.477379\n",
       "1865     2253  >=21           True  74.242965"
      ]
     },
     "execution_count": 115,
     "metadata": {},
     "output_type": "execute_result"
    }
   ],
   "source": [
    "sample_df=full_data.sample(150)\n",
    "sample_df.head(5)"
   ]
  },
  {
   "cell_type": "code",
   "execution_count": null,
   "metadata": {},
   "outputs": [],
   "source": []
  },
  {
   "cell_type": "code",
   "execution_count": 113,
   "metadata": {},
   "outputs": [],
   "source": [
    "bootsample=sample_df.sample(150, replace=True)"
   ]
  },
  {
   "cell_type": "code",
   "execution_count": 116,
   "metadata": {},
   "outputs": [
    {
     "data": {
      "text/html": [
       "<div>\n",
       "<style scoped>\n",
       "    .dataframe tbody tr th:only-of-type {\n",
       "        vertical-align: middle;\n",
       "    }\n",
       "\n",
       "    .dataframe tbody tr th {\n",
       "        vertical-align: top;\n",
       "    }\n",
       "\n",
       "    .dataframe thead th {\n",
       "        text-align: right;\n",
       "    }\n",
       "</style>\n",
       "<table border=\"1\" class=\"dataframe\">\n",
       "  <thead>\n",
       "    <tr style=\"text-align: right;\">\n",
       "      <th></th>\n",
       "      <th>user_id</th>\n",
       "      <th>age</th>\n",
       "      <th>drinks_coffee</th>\n",
       "      <th>height</th>\n",
       "    </tr>\n",
       "  </thead>\n",
       "  <tbody>\n",
       "    <tr>\n",
       "      <th>1163</th>\n",
       "      <td>4648</td>\n",
       "      <td>&gt;=21</td>\n",
       "      <td>True</td>\n",
       "      <td>67.901175</td>\n",
       "    </tr>\n",
       "    <tr>\n",
       "      <th>1918</th>\n",
       "      <td>5486</td>\n",
       "      <td>&gt;=21</td>\n",
       "      <td>True</td>\n",
       "      <td>65.864238</td>\n",
       "    </tr>\n",
       "    <tr>\n",
       "      <th>302</th>\n",
       "      <td>3972</td>\n",
       "      <td>&gt;=21</td>\n",
       "      <td>False</td>\n",
       "      <td>69.520553</td>\n",
       "    </tr>\n",
       "    <tr>\n",
       "      <th>706</th>\n",
       "      <td>6833</td>\n",
       "      <td>&gt;=21</td>\n",
       "      <td>True</td>\n",
       "      <td>69.121677</td>\n",
       "    </tr>\n",
       "    <tr>\n",
       "      <th>1645</th>\n",
       "      <td>6839</td>\n",
       "      <td>&lt;21</td>\n",
       "      <td>False</td>\n",
       "      <td>63.575874</td>\n",
       "    </tr>\n",
       "  </tbody>\n",
       "</table>\n",
       "</div>"
      ],
      "text/plain": [
       "      user_id   age  drinks_coffee     height\n",
       "1163     4648  >=21           True  67.901175\n",
       "1918     5486  >=21           True  65.864238\n",
       "302      3972  >=21          False  69.520553\n",
       "706      6833  >=21           True  69.121677\n",
       "1645     6839   <21          False  63.575874"
      ]
     },
     "execution_count": 116,
     "metadata": {},
     "output_type": "execute_result"
    }
   ],
   "source": [
    "bootsample.head(5)"
   ]
  },
  {
   "cell_type": "code",
   "execution_count": null,
   "metadata": {},
   "outputs": [],
   "source": []
  },
  {
   "cell_type": "code",
   "execution_count": 121,
   "metadata": {},
   "outputs": [],
   "source": [
    "## Bootstrap from the sample\n",
    "means= []\n",
    "\n",
    "for _ in range(10000):\n",
    "    bootsample = sample_df.sample(150, replace=True)\n",
    "    means.append(bootsample.height.mean())\n"
   ]
  },
  {
   "cell_type": "code",
   "execution_count": 127,
   "metadata": {},
   "outputs": [
    {
     "data": {
      "text/plain": [
       "150"
      ]
     },
     "execution_count": 127,
     "metadata": {},
     "output_type": "execute_result"
    }
   ],
   "source": [
    "len(bootsample)"
   ]
  },
  {
   "cell_type": "code",
   "execution_count": 124,
   "metadata": {},
   "outputs": [
    {
     "data": {
      "text/plain": [
       "10000"
      ]
     },
     "execution_count": 124,
     "metadata": {},
     "output_type": "execute_result"
    }
   ],
   "source": [
    "len(means)"
   ]
  },
  {
   "cell_type": "code",
   "execution_count": 122,
   "metadata": {},
   "outputs": [
    {
     "data": {
      "text/plain": [
       "0.22479837204125436"
      ]
     },
     "execution_count": 122,
     "metadata": {},
     "output_type": "execute_result"
    }
   ],
   "source": [
    "np.std(means)"
   ]
  },
  {
   "cell_type": "code",
   "execution_count": 130,
   "metadata": {},
   "outputs": [
    {
     "data": {
      "text/plain": [
       "[67.85331870287258,\n",
       " 67.99055320237838,\n",
       " 68.02234676393604,\n",
       " 67.67851288424674,\n",
       " 67.61020542304114,\n",
       " 67.71768569033556,\n",
       " 67.65393923395666,\n",
       " 67.90222554216925,\n",
       " 67.602280161994,\n",
       " 67.83034454162488,\n",
       " 68.02464662809149,\n",
       " 67.9393826291749,\n",
       " 67.72670888269514,\n",
       " 67.84961355680616,\n",
       " 67.64114161701423,\n",
       " 67.91526279058154,\n",
       " 67.64308190638414,\n",
       " 67.90523232801625,\n",
       " 67.8214670659879,\n",
       " 67.9660023891177,\n",
       " 67.75522945836329,\n",
       " 67.72251084815281,\n",
       " 67.86719964049446,\n",
       " 67.86862929303913,\n",
       " 68.25347232503523,\n",
       " 67.76478118650917,\n",
       " 67.70056623014952,\n",
       " 67.95425890526379,\n",
       " 67.6046291076834,\n",
       " 67.89528949298528,\n",
       " 67.91352323002164,\n",
       " 67.65397628044596,\n",
       " 67.93832740589494,\n",
       " 67.9015887943326,\n",
       " 67.6023402566948,\n",
       " 67.62231320770023,\n",
       " 67.94860417415559,\n",
       " 67.65312596180786,\n",
       " 67.8177042176725,\n",
       " 67.71397250860976,\n",
       " 67.52358722199754,\n",
       " 67.63877423717462,\n",
       " 68.41860631864519,\n",
       " 67.84363703069582,\n",
       " 67.34648485920529,\n",
       " 67.65697557764621,\n",
       " 67.98502141475082,\n",
       " 68.19978091698883,\n",
       " 67.84138440977506,\n",
       " 67.76949985576724,\n",
       " 67.47019679116251,\n",
       " 67.51412268561788,\n",
       " 67.76468501671403,\n",
       " 67.82616669192396,\n",
       " 67.8713176798725,\n",
       " 67.51363511842966,\n",
       " 67.48457704227866,\n",
       " 67.86945725650769,\n",
       " 67.71609326841943,\n",
       " 67.82510651076623,\n",
       " 68.0460354600689,\n",
       " 67.88515267031374,\n",
       " 67.51193874407673,\n",
       " 67.53040377137955,\n",
       " 67.86348291126743,\n",
       " 67.86613029203397,\n",
       " 67.70387320556037,\n",
       " 67.69801435771771,\n",
       " 67.73230033812033,\n",
       " 67.85898427700808,\n",
       " 67.67978074919455,\n",
       " 67.8677108295016,\n",
       " 67.80080137993257,\n",
       " 68.23374897179437,\n",
       " 67.68061241500543,\n",
       " 68.02482154511736,\n",
       " 67.79252434925039,\n",
       " 67.74904895897645,\n",
       " 67.59261638113337,\n",
       " 67.77744066001243,\n",
       " 67.62424679159088,\n",
       " 67.77954158926097,\n",
       " 67.87181402110797,\n",
       " 68.15881708065841,\n",
       " 67.63495128004863,\n",
       " 68.06960961295363,\n",
       " 67.87443907236832,\n",
       " 67.85619596653807,\n",
       " 68.05778418909016,\n",
       " 67.88452204612933,\n",
       " 67.28677883724426,\n",
       " 67.59150607280054,\n",
       " 67.78783197669271,\n",
       " 68.11290752922181,\n",
       " 67.52198815111423,\n",
       " 67.62238473474007,\n",
       " 67.9181540528307,\n",
       " 67.91706600498942,\n",
       " 67.89184785956593,\n",
       " 68.09544439403689,\n",
       " 67.56717099994414,\n",
       " 67.91586354226094,\n",
       " 67.81740353263028,\n",
       " 68.03333575788021,\n",
       " 68.04455638612221,\n",
       " 67.61310692133358,\n",
       " 67.90402148685388,\n",
       " 67.90903637087742,\n",
       " 67.80713253452053,\n",
       " 67.98563960446727,\n",
       " 67.94831406811612,\n",
       " 67.86288789608363,\n",
       " 67.77869628055569,\n",
       " 67.94690280706705,\n",
       " 68.16524818708042,\n",
       " 67.453275435191,\n",
       " 68.14127437231767,\n",
       " 67.64815099760324,\n",
       " 67.61740532102488,\n",
       " 68.13815227946003,\n",
       " 68.3078158770004,\n",
       " 67.74551836193227,\n",
       " 67.79704103883012,\n",
       " 67.76078984306757,\n",
       " 67.82072671684334,\n",
       " 67.71777879134548,\n",
       " 68.25112938620617,\n",
       " 67.6195832422143,\n",
       " 67.91408947982401,\n",
       " 68.02773885955851,\n",
       " 68.05570024091611,\n",
       " 67.84339164254875,\n",
       " 67.78097052717584,\n",
       " 67.60553812276304,\n",
       " 67.84591804300669,\n",
       " 67.72822178095554,\n",
       " 67.30835613745627,\n",
       " 67.85528106025671,\n",
       " 67.97871644529522,\n",
       " 67.60327950632146,\n",
       " 67.48422884715276,\n",
       " 67.47258203913883,\n",
       " 67.86393512036673,\n",
       " 67.9134513069264,\n",
       " 68.10182798134036,\n",
       " 67.80610876226656,\n",
       " 67.8091316763963,\n",
       " 67.82971377278976,\n",
       " 67.76302054139302,\n",
       " 67.99360325247044,\n",
       " 67.61223339351709,\n",
       " 68.00174112510125,\n",
       " 67.86104154038694,\n",
       " 67.79844535905742,\n",
       " 67.84245009304234,\n",
       " 68.33119599105828,\n",
       " 67.92461709551628,\n",
       " 67.64869274451559,\n",
       " 67.65894661497504,\n",
       " 67.75403413677594,\n",
       " 67.91703068129002,\n",
       " 68.03048295858731,\n",
       " 68.18800777884087,\n",
       " 67.67736877748099,\n",
       " 68.04130669139212,\n",
       " 67.7842452867791,\n",
       " 68.33796780368795,\n",
       " 67.33821320536977,\n",
       " 67.88525229235601,\n",
       " 67.6450815205442,\n",
       " 67.89312430062125,\n",
       " 67.60459027653442,\n",
       " 67.87237392735088,\n",
       " 67.6667036041078,\n",
       " 67.59248292422527,\n",
       " 68.06047431120868,\n",
       " 67.82984953286845,\n",
       " 67.85641577631414,\n",
       " 67.8077563775005,\n",
       " 67.52150839955824,\n",
       " 67.97635953681318,\n",
       " 67.84984562434019,\n",
       " 67.80220345064345,\n",
       " 67.96261143733624,\n",
       " 68.13046689733794,\n",
       " 68.15400344473926,\n",
       " 67.36565196750162,\n",
       " 67.5817027447778,\n",
       " 67.65323925373983,\n",
       " 67.73171015504305,\n",
       " 67.7496711772775,\n",
       " 67.84656183832719,\n",
       " 67.77010229369829,\n",
       " 68.03546229670144,\n",
       " 67.76991378741214,\n",
       " 67.56595082787591,\n",
       " 67.61167153543016,\n",
       " 67.33157133221943,\n",
       " 67.42537601351388,\n",
       " 67.79797696130565,\n",
       " 67.93345627794113,\n",
       " 67.27901361938416,\n",
       " 67.90926260093993,\n",
       " 67.09236026286717,\n",
       " 67.54100788833242,\n",
       " 68.04424386870905,\n",
       " 67.56697122517012,\n",
       " 68.04490009555157,\n",
       " 67.76608161840534,\n",
       " 67.74236659257932,\n",
       " 67.80429911189752,\n",
       " 67.83613375301194,\n",
       " 67.9206120182618,\n",
       " 67.39679974400539,\n",
       " 67.61409389442778,\n",
       " 67.92576788351893,\n",
       " 67.98352189809798,\n",
       " 67.84377804744123,\n",
       " 67.71987864749667,\n",
       " 67.90454186414594,\n",
       " 67.74785768639684,\n",
       " 67.90804404127175,\n",
       " 68.13331998405543,\n",
       " 67.74725391455738,\n",
       " 67.81043145850636,\n",
       " 67.98395568199045,\n",
       " 67.68957452957122,\n",
       " 67.58595532669224,\n",
       " 68.02021745548136,\n",
       " 67.54023484985304,\n",
       " 68.05454299854757,\n",
       " 67.78081944703798,\n",
       " 67.557376935605,\n",
       " 67.71377848398473,\n",
       " 67.66849632224154,\n",
       " 67.82602781382536,\n",
       " 67.6368637791159,\n",
       " 67.94641421783629,\n",
       " 67.92660160097996,\n",
       " 67.47709084879617,\n",
       " 67.87648600786488,\n",
       " 67.91330520887456,\n",
       " 67.89524642143923,\n",
       " 68.34943105090306,\n",
       " 67.71510582414194,\n",
       " 67.25758776835528,\n",
       " 67.77245931669452,\n",
       " 67.64806830887923,\n",
       " 67.99477024788295,\n",
       " 67.52433375567595,\n",
       " 67.47934535685144,\n",
       " 67.55669721387802,\n",
       " 67.47752997315807,\n",
       " 67.49528728021764,\n",
       " 67.86036701440325,\n",
       " 68.05689358058352,\n",
       " 67.80985160757095,\n",
       " 67.63746645414726,\n",
       " 67.67510243665872,\n",
       " 67.88588094981222,\n",
       " 67.81190482833222,\n",
       " 67.54287708304373,\n",
       " 67.62848292199375,\n",
       " 67.78255341047378,\n",
       " 67.53551694136762,\n",
       " 67.64058955208199,\n",
       " 67.6715746582278,\n",
       " 67.48196124167723,\n",
       " 67.76558994437859,\n",
       " 67.90329177400321,\n",
       " 67.85532399213264,\n",
       " 68.09449607198091,\n",
       " 67.6124602189236,\n",
       " 67.60008137307186,\n",
       " 67.70211188744324,\n",
       " 67.6310102374547,\n",
       " 67.73006335528667,\n",
       " 67.93569824842432,\n",
       " 67.24440431418499,\n",
       " 67.80439706352358,\n",
       " 68.12012384251503,\n",
       " 67.87227663057088,\n",
       " 68.43169495274364,\n",
       " 67.67574422361416,\n",
       " 67.79928505974881,\n",
       " 67.88070729367469,\n",
       " 67.63721273956737,\n",
       " 68.02277808287933,\n",
       " 67.37414921718603,\n",
       " 67.77743710839034,\n",
       " 68.00333315198664,\n",
       " 67.7729101365339,\n",
       " 67.90393365515007,\n",
       " 67.58987397113194,\n",
       " 67.17952885603574,\n",
       " 67.85876661279181,\n",
       " 68.0106909119115,\n",
       " 67.89406824690208,\n",
       " 67.87360368055096,\n",
       " 67.62520876097057,\n",
       " 67.79910471975784,\n",
       " 67.5924052211811,\n",
       " 67.73135749085363,\n",
       " 67.64817276248911,\n",
       " 67.9951712118365,\n",
       " 67.76464226821824,\n",
       " 67.6638265688712,\n",
       " 67.80730207338136,\n",
       " 68.16264969872064,\n",
       " 67.89675370579315,\n",
       " 67.75264786712542,\n",
       " 67.70474223971408,\n",
       " 67.89131428650593,\n",
       " 67.75315593712544,\n",
       " 68.4281914564727,\n",
       " 67.71070318084469,\n",
       " 67.94736639563348,\n",
       " 68.02885125443817,\n",
       " 67.63545647804234,\n",
       " 68.16603217209635,\n",
       " 67.7620155744106,\n",
       " 67.77668787672366,\n",
       " 68.00159500676295,\n",
       " 67.86552856637398,\n",
       " 67.83968582405885,\n",
       " 67.66399535344156,\n",
       " 67.93807743921474,\n",
       " 67.84227480146605,\n",
       " 67.77390526170963,\n",
       " 67.69880613046365,\n",
       " 67.84216082078989,\n",
       " 67.760033678921,\n",
       " 67.50919767399142,\n",
       " 67.41166172419356,\n",
       " 67.65474814786285,\n",
       " 67.65103693218465,\n",
       " 67.9848419537648,\n",
       " 67.62864122066058,\n",
       " 67.62804719482703,\n",
       " 67.86829635738293,\n",
       " 67.64390773936765,\n",
       " 67.72616056508174,\n",
       " 67.45857862354595,\n",
       " 67.92571027055051,\n",
       " 67.79730076345608,\n",
       " 68.01218877062169,\n",
       " 67.91770166787957,\n",
       " 67.74811461941877,\n",
       " 67.39028525568921,\n",
       " 67.64907123512268,\n",
       " 67.93164431513256,\n",
       " 68.01569143655854,\n",
       " 68.04680243584833,\n",
       " 67.82533495573641,\n",
       " 67.86899547944155,\n",
       " 67.64942242589797,\n",
       " 67.99587808435733,\n",
       " 67.84753285597944,\n",
       " 67.61157767712638,\n",
       " 67.63600300040406,\n",
       " 67.67675979348246,\n",
       " 67.85130261104857,\n",
       " 67.78503995800024,\n",
       " 67.95318096499871,\n",
       " 68.02911461606803,\n",
       " 67.60835570897763,\n",
       " 67.63852965083665,\n",
       " 68.66333249625305,\n",
       " 67.72924354711897,\n",
       " 67.99477689136599,\n",
       " 67.77633524717955,\n",
       " 67.44971944549958,\n",
       " 67.68492454320916,\n",
       " 67.48189733112308,\n",
       " 67.53067138673201,\n",
       " 67.8640023780542,\n",
       " 67.71125370827558,\n",
       " 68.22816376497282,\n",
       " 67.88728969006823,\n",
       " 68.03012812829057,\n",
       " 67.80168328023936,\n",
       " 67.99848617774582,\n",
       " 67.76937934199476,\n",
       " 67.92584668403146,\n",
       " 67.88649340690326,\n",
       " 67.84419056547459,\n",
       " 67.747715186229,\n",
       " 67.81272831582586,\n",
       " 68.12078387874084,\n",
       " 67.99860789621036,\n",
       " 67.64598901174192,\n",
       " 67.95323040472978,\n",
       " 67.67308072544479,\n",
       " 67.69839536914783,\n",
       " 67.93687339457091,\n",
       " 67.66633562712475,\n",
       " 68.16030921028671,\n",
       " 67.79938911966289,\n",
       " 67.92865082896887,\n",
       " 67.36925873957831,\n",
       " 68.11838806916231,\n",
       " 67.626823595581,\n",
       " 67.57902133109154,\n",
       " 68.18927047665841,\n",
       " 67.67805294110849,\n",
       " 67.45979439405954,\n",
       " 67.69993512137488,\n",
       " 67.98990881768718,\n",
       " 67.92229251028132,\n",
       " 67.68159886294751,\n",
       " 67.32640668692075,\n",
       " 67.87048934160822,\n",
       " 67.44772066753117,\n",
       " 68.09846915225812,\n",
       " 67.58248232834818,\n",
       " 67.71408820150202,\n",
       " 68.29675074681245,\n",
       " 67.93632639729731,\n",
       " 67.91237807491791,\n",
       " 68.19302336507539,\n",
       " 67.68579534159946,\n",
       " 68.10684260342677,\n",
       " 68.13805014344939,\n",
       " 67.72678473896585,\n",
       " 67.81987799068364,\n",
       " 67.86819821016967,\n",
       " 67.68007424028566,\n",
       " 68.19241892726218,\n",
       " 68.20098576642631,\n",
       " 67.76018950730837,\n",
       " 67.74928197684117,\n",
       " 67.87351664473297,\n",
       " 67.36275830911875,\n",
       " 68.24633518370375,\n",
       " 67.8187369336974,\n",
       " 67.89486419395843,\n",
       " 67.88623589307353,\n",
       " 67.91303687119732,\n",
       " 67.78688357466483,\n",
       " 68.01902817706315,\n",
       " 67.84357366513011,\n",
       " 68.06985184934322,\n",
       " 67.86818572732513,\n",
       " 68.18535653171001,\n",
       " 68.06777659596227,\n",
       " 67.5899856269733,\n",
       " 68.1623320695783,\n",
       " 68.23049019622437,\n",
       " 67.78763583592392,\n",
       " 67.91490852901872,\n",
       " 67.76746919160787,\n",
       " 67.92214757784207,\n",
       " 67.95429431379834,\n",
       " 67.92522377395412,\n",
       " 67.83529941248257,\n",
       " 67.92386428333748,\n",
       " 67.67593727019525,\n",
       " 67.34921048824032,\n",
       " 67.34823758008235,\n",
       " 67.71983504119962,\n",
       " 67.91428359210872,\n",
       " 67.72454630893459,\n",
       " 67.82444382492646,\n",
       " 67.76114061319767,\n",
       " 67.7615996921639,\n",
       " 68.22853290079608,\n",
       " 67.66695729444278,\n",
       " 67.69116863116388,\n",
       " 67.9859930916375,\n",
       " 68.07320663254585,\n",
       " 68.21915608160684,\n",
       " 68.00091729257448,\n",
       " 67.81443658636658,\n",
       " 67.52407754350565,\n",
       " 68.23394069971394,\n",
       " 67.42539981479074,\n",
       " 68.2451670080291,\n",
       " 67.79068315894574,\n",
       " 67.83158132828234,\n",
       " 67.66618141062747,\n",
       " 67.50351617292843,\n",
       " 67.65001946471656,\n",
       " 68.20685967995759,\n",
       " 67.72500136513302,\n",
       " 67.94944743819116,\n",
       " 67.83535783689192,\n",
       " 67.46248166593283,\n",
       " 67.84410091917616,\n",
       " 67.57675834568333,\n",
       " 68.09731172353995,\n",
       " 67.5945822291788,\n",
       " 67.75718838296855,\n",
       " 67.8225103243502,\n",
       " 67.87280704703943,\n",
       " 68.030127073313,\n",
       " 68.15397367400809,\n",
       " 67.69371372193363,\n",
       " 68.16580745421726,\n",
       " 67.76149365597118,\n",
       " 67.90695391625933,\n",
       " 67.77093431580535,\n",
       " 67.60836132188602,\n",
       " 67.48198462071028,\n",
       " 67.60509664948435,\n",
       " 67.72954308273617,\n",
       " 67.68422191408358,\n",
       " 67.57020753106052,\n",
       " 67.96067600637797,\n",
       " 68.28340717480671,\n",
       " 67.72667272614963,\n",
       " 67.95977362052523,\n",
       " 68.07906412245599,\n",
       " 67.42043149224087,\n",
       " 67.95491606614327,\n",
       " 67.61067010692895,\n",
       " 68.03836723214243,\n",
       " 67.76792651991494,\n",
       " 67.74641996570293,\n",
       " 67.86285596805385,\n",
       " 67.75705214239346,\n",
       " 68.05611380126608,\n",
       " 67.60892288612257,\n",
       " 67.71511323727185,\n",
       " 68.12448673604506,\n",
       " 67.60764815589154,\n",
       " 67.4247640337369,\n",
       " 67.9393857593818,\n",
       " 67.56121365456005,\n",
       " 67.41768612471088,\n",
       " 67.95864263854577,\n",
       " 67.87286454393504,\n",
       " 68.18363752394838,\n",
       " 68.00496782167035,\n",
       " 67.9299652570715,\n",
       " 67.4810707821277,\n",
       " 67.67020280086672,\n",
       " 68.28543415058252,\n",
       " 67.89357769757657,\n",
       " 67.97361381249944,\n",
       " 67.70792886750127,\n",
       " 67.79006429906322,\n",
       " 67.79907884006815,\n",
       " 67.79239578660702,\n",
       " 67.66413050191886,\n",
       " 68.18536156543632,\n",
       " 67.42141594884397,\n",
       " 67.84811555673376,\n",
       " 67.9140921650773,\n",
       " 67.84481293419151,\n",
       " 67.76548659271806,\n",
       " 67.4433563612014,\n",
       " 68.05829032323764,\n",
       " 67.84012743177706,\n",
       " 67.64283547494237,\n",
       " 67.78609535401228,\n",
       " 68.0354521781685,\n",
       " 67.99437670639985,\n",
       " 67.64604958117864,\n",
       " 67.59823265995641,\n",
       " 67.3527060289953,\n",
       " 67.77190207711378,\n",
       " 67.90595651270364,\n",
       " 67.83355441651247,\n",
       " 67.61671655753116,\n",
       " 67.28018870645931,\n",
       " 67.9338522681001,\n",
       " 67.69815049214257,\n",
       " 68.0691677882043,\n",
       " 67.4323885798422,\n",
       " 68.10756802103877,\n",
       " 67.51657777979021,\n",
       " 68.18696525324509,\n",
       " 67.66637385760787,\n",
       " 67.71040748348376,\n",
       " 68.04677786442457,\n",
       " 67.60575146348647,\n",
       " 67.4798659499947,\n",
       " 67.94109022436561,\n",
       " 67.36125408539482,\n",
       " 67.81633681659525,\n",
       " 67.81505081953968,\n",
       " 67.98526463506033,\n",
       " 68.06651608069876,\n",
       " 67.86527290716768,\n",
       " 67.38574214731898,\n",
       " 67.7655014009255,\n",
       " 67.69314225560716,\n",
       " 68.16150339724042,\n",
       " 67.80668057273466,\n",
       " 67.51643551873251,\n",
       " 67.9415335138753,\n",
       " 67.79240155378882,\n",
       " 67.76970212750066,\n",
       " 68.0012998290174,\n",
       " 67.5577407134385,\n",
       " 67.81565913927413,\n",
       " 67.97388646208452,\n",
       " 68.12920023694448,\n",
       " 67.81193347514821,\n",
       " 67.82409297649082,\n",
       " 68.03473979446731,\n",
       " 67.83582013812602,\n",
       " 68.27009232788718,\n",
       " 67.64343215182258,\n",
       " 67.7999228666061,\n",
       " 67.59001925756833,\n",
       " 67.5923994621173,\n",
       " 67.36885978743955,\n",
       " 67.88634403504447,\n",
       " 67.65457949712184,\n",
       " 67.61456195382016,\n",
       " 68.06735011357154,\n",
       " 68.10519093341487,\n",
       " 67.65938858803885,\n",
       " 67.772084507047,\n",
       " 67.89538638211808,\n",
       " 67.52662397434854,\n",
       " 67.63024826077702,\n",
       " 68.13207438867916,\n",
       " 67.9620077813957,\n",
       " 67.69243746500487,\n",
       " 67.6532567599234,\n",
       " 68.05426631705413,\n",
       " 67.88658571348891,\n",
       " 67.69830739405319,\n",
       " 67.54142064448423,\n",
       " 67.84311317443462,\n",
       " 67.85471138270518,\n",
       " 68.11976198567535,\n",
       " 67.73889300590562,\n",
       " 67.51982906996977,\n",
       " 67.98028182173836,\n",
       " 67.54658189344237,\n",
       " 67.61439903208819,\n",
       " 68.17396330040317,\n",
       " 68.04313555515668,\n",
       " 67.70966542369511,\n",
       " 67.65406618152024,\n",
       " 68.17608199420359,\n",
       " 67.82086901714985,\n",
       " 67.63266582927511,\n",
       " 67.6033482754953,\n",
       " 67.57598557838892,\n",
       " 67.94561677341736,\n",
       " 68.01734547727135,\n",
       " 67.68606562970511,\n",
       " 67.34010367141803,\n",
       " 67.61195724465318,\n",
       " 68.03497721923289,\n",
       " 67.96032091239154,\n",
       " 67.91887962434014,\n",
       " 67.86024214991909,\n",
       " 67.86401780573694,\n",
       " 67.74402040113542,\n",
       " 67.68627098732549,\n",
       " 68.02594371219529,\n",
       " 67.73004498572575,\n",
       " 67.86857171023497,\n",
       " 67.88765579246108,\n",
       " 67.5071392381812,\n",
       " 67.72628296338367,\n",
       " 67.74949889505724,\n",
       " 67.42132536722247,\n",
       " 67.6674057696585,\n",
       " 67.64779674410998,\n",
       " 67.92173705451816,\n",
       " 67.95481407460487,\n",
       " 68.0882055374533,\n",
       " 67.48628094957539,\n",
       " 68.20272661053468,\n",
       " 67.84322562219003,\n",
       " 67.71820960363007,\n",
       " 67.54436149548631,\n",
       " 67.67673964051443,\n",
       " 67.91288458776339,\n",
       " 67.70503748231116,\n",
       " 67.70065409822308,\n",
       " 68.13654116927007,\n",
       " 67.6652535721837,\n",
       " 67.40390693208302,\n",
       " 67.84072153572043,\n",
       " 67.4419847036762,\n",
       " 68.0619773540989,\n",
       " 67.77509116524725,\n",
       " 67.43787967068472,\n",
       " 67.92281599654997,\n",
       " 68.01754811040176,\n",
       " 67.74186638801292,\n",
       " 68.05291299238726,\n",
       " 67.49103138566937,\n",
       " 68.08927507932442,\n",
       " 67.51196090976467,\n",
       " 67.6021792225916,\n",
       " 67.90568225309246,\n",
       " 67.44307772317754,\n",
       " 67.7165941533701,\n",
       " 67.80961553106322,\n",
       " 67.92416496765786,\n",
       " 68.1445483062232,\n",
       " 67.74316336571573,\n",
       " 68.00581235217805,\n",
       " 67.64297875360337,\n",
       " 67.8262815997648,\n",
       " 67.74822677317061,\n",
       " 68.16368872073681,\n",
       " 67.89379229315593,\n",
       " 67.3878369911622,\n",
       " 67.70010001604221,\n",
       " 67.93256962847371,\n",
       " 67.86145392095106,\n",
       " 67.97970676327363,\n",
       " 67.77909988832505,\n",
       " 67.86640312255038,\n",
       " 67.90977458992806,\n",
       " 67.7941019918083,\n",
       " 67.46009314379266,\n",
       " 68.15656618851125,\n",
       " 67.55931659236761,\n",
       " 67.63018746128446,\n",
       " 67.87729678801492,\n",
       " 67.56094317895729,\n",
       " 67.62699693509137,\n",
       " 67.71126495899713,\n",
       " 67.56817221437554,\n",
       " 67.65323401349916,\n",
       " 67.52757109306678,\n",
       " 67.76970715046251,\n",
       " 67.92747023233936,\n",
       " 67.58795952255755,\n",
       " 67.53709979065789,\n",
       " 67.8736433712926,\n",
       " 67.60144228063942,\n",
       " 67.87850077628755,\n",
       " 67.62685473799738,\n",
       " 68.18464964094004,\n",
       " 67.74288213653801,\n",
       " 68.00837556519352,\n",
       " 67.5295213363118,\n",
       " 67.89730741379262,\n",
       " 68.23274365042455,\n",
       " 67.66324708856745,\n",
       " 67.89569950317663,\n",
       " 67.73928963517773,\n",
       " 67.89968475820937,\n",
       " 67.83876592974414,\n",
       " 68.02428760016379,\n",
       " 67.98561438715168,\n",
       " 67.7032488566098,\n",
       " 67.85373452788768,\n",
       " 67.74221417915606,\n",
       " 68.0750173188299,\n",
       " 67.27847663610191,\n",
       " 68.20600084892195,\n",
       " 68.18285105293667,\n",
       " 67.79054235874248,\n",
       " 67.74180059448675,\n",
       " 67.59676688973244,\n",
       " 67.74523097500592,\n",
       " 67.60399711066944,\n",
       " 67.74109092415685,\n",
       " 67.51082664310138,\n",
       " 67.57529620356452,\n",
       " 67.6750407552728,\n",
       " 67.81569692210904,\n",
       " 67.69864650605557,\n",
       " 67.7144614781576,\n",
       " 67.75339894663513,\n",
       " 67.50907841929799,\n",
       " 67.92459037219717,\n",
       " 67.91732308213463,\n",
       " 67.64668401041605,\n",
       " 67.6955458662689,\n",
       " 67.57070050947914,\n",
       " 67.68659961691537,\n",
       " 67.52276090225213,\n",
       " 68.12145609559803,\n",
       " 67.89559213821593,\n",
       " 68.14681792870965,\n",
       " 67.90139596804384,\n",
       " 67.73552865279699,\n",
       " 68.29813688656645,\n",
       " 67.81795477131189,\n",
       " 67.72982790406253,\n",
       " 67.84517259101258,\n",
       " 67.99221745242394,\n",
       " 67.80024650611557,\n",
       " 67.81980477983319,\n",
       " 67.98698815718753,\n",
       " 67.60461641852199,\n",
       " 67.85940906275098,\n",
       " 67.81182740040853,\n",
       " 68.08374185446694,\n",
       " 67.71587946797284,\n",
       " 67.85320692086621,\n",
       " 67.92676759260365,\n",
       " 67.63962959699552,\n",
       " 68.06979050412377,\n",
       " 67.76229418949326,\n",
       " 67.74634972441842,\n",
       " 67.51076167490695,\n",
       " 68.17311021190237,\n",
       " 68.05005169212386,\n",
       " 67.79035856805697,\n",
       " 67.46950445585344,\n",
       " 67.58656300073953,\n",
       " 67.80790760364799,\n",
       " 68.11805726513077,\n",
       " 67.43430722667033,\n",
       " 67.99067393208271,\n",
       " 68.09389557274469,\n",
       " 67.92499562186869,\n",
       " 67.91329839097617,\n",
       " 67.77218384016366,\n",
       " 68.39042450404646,\n",
       " 67.7707009772633,\n",
       " 67.82680961618284,\n",
       " 67.96263406297238,\n",
       " 68.0661185344932,\n",
       " 67.89248947572005,\n",
       " 67.5931729968224,\n",
       " 67.94575018949037,\n",
       " 67.91301497915494,\n",
       " 67.62542261148738,\n",
       " 67.88555954469258,\n",
       " 67.66080423619304,\n",
       " 67.77932539696359,\n",
       " 67.93515741810667,\n",
       " 67.86100715936922,\n",
       " 68.19645849280005,\n",
       " 67.94044003232814,\n",
       " 67.65880365307244,\n",
       " 67.86737040094324,\n",
       " 67.99727941287217,\n",
       " 67.54755810711228,\n",
       " 67.54834578361978,\n",
       " 67.83790113873069,\n",
       " 67.9936425180395,\n",
       " 67.76320481967485,\n",
       " 67.58250423427836,\n",
       " 67.67735162043003,\n",
       " 67.75145335474491,\n",
       " 67.71805856999073,\n",
       " 67.87716445806569,\n",
       " 67.84461856253168,\n",
       " 68.01027312052662,\n",
       " 67.26693104499427,\n",
       " 67.8206281025641,\n",
       " 68.02233821683365,\n",
       " 67.67777890241267,\n",
       " 68.01893342388911,\n",
       " 67.57054880597056,\n",
       " 67.74973317230675,\n",
       " 67.86593966058106,\n",
       " 67.76234816858164,\n",
       " 67.6154085395398,\n",
       " 67.95114510379999,\n",
       " 68.35120278249407,\n",
       " 67.92152372124131,\n",
       " 67.69519975614507,\n",
       " 67.35682662828366,\n",
       " 67.68904053097823,\n",
       " 67.77965608592707,\n",
       " 67.910236850793,\n",
       " 67.7268168507253,\n",
       " 68.38146354592305,\n",
       " 67.93069339059016,\n",
       " 67.94288277202904,\n",
       " 68.02566089657165,\n",
       " 68.1143964041713,\n",
       " 67.37135320555038,\n",
       " 67.9016615828063,\n",
       " 67.81884571948382,\n",
       " 67.82829077758946,\n",
       " 67.8344304406522,\n",
       " 67.59111916928664,\n",
       " 67.77425092696222,\n",
       " 67.91510164912603,\n",
       " 68.00594105715055,\n",
       " 68.081592340609,\n",
       " 68.09657954695554,\n",
       " 67.54583114586936,\n",
       " 68.08217744349389,\n",
       " 68.00001783903174,\n",
       " 67.69736883986893,\n",
       " 67.7681952261287,\n",
       " 67.58446729420085,\n",
       " 68.06546537858459,\n",
       " 67.79499362796167,\n",
       " 67.25661055649744,\n",
       " 67.98265086410704,\n",
       " 68.02562192587826,\n",
       " 67.69150915606014,\n",
       " 67.48377039134124,\n",
       " 67.89942526223689,\n",
       " 68.29440322996398,\n",
       " 68.02776485507196,\n",
       " 67.67623296785267,\n",
       " 67.67823468942292,\n",
       " 67.93482671681767,\n",
       " 68.0931011810977,\n",
       " 67.6724089847715,\n",
       " 67.57549264200625,\n",
       " 67.78804500571016,\n",
       " 67.9115003079822,\n",
       " 67.58912788296621,\n",
       " 67.89126303028686,\n",
       " 67.99742334431693,\n",
       " 68.32298654827572,\n",
       " 67.78801451969335,\n",
       " 67.57761137227895,\n",
       " 67.97162010400173,\n",
       " 67.56578159375067,\n",
       " 67.57254393491927,\n",
       " 68.02587301585973,\n",
       " 67.51746777633645,\n",
       " 67.87227142473974,\n",
       " 67.57839264315197,\n",
       " 67.92699538947805,\n",
       " 68.1283841199058,\n",
       " 67.75870668391872,\n",
       " 67.7547528309319,\n",
       " 68.12996076908782,\n",
       " 67.66982438297727,\n",
       " 67.62173155116933,\n",
       " 67.72276813531025,\n",
       " 67.56739363434136,\n",
       " 67.92107418767026,\n",
       " 67.97191314956753,\n",
       " 68.32504867848637,\n",
       " 68.32580258701663,\n",
       " 67.62389158606263,\n",
       " 67.8742944448733,\n",
       " 68.03622262593524,\n",
       " 68.02408579176947,\n",
       " 67.47310682495774,\n",
       " 67.77708529154361,\n",
       " 67.8068384205641,\n",
       " 67.95802464606435,\n",
       " 67.88756069594356,\n",
       " 67.93499184740827,\n",
       " 68.0926988648917,\n",
       " 67.513150528609,\n",
       " 68.03439147454664,\n",
       " 68.02506012453483,\n",
       " 67.8572676881463,\n",
       " 67.63881056660668,\n",
       " 67.44568955957475,\n",
       " 67.66378049165951,\n",
       " 67.88999212133952,\n",
       " 67.93371669288953,\n",
       " 67.50370537383853,\n",
       " 67.68972320216675,\n",
       " 67.54719761879566,\n",
       " 68.2079437846421,\n",
       " 67.54654029782277,\n",
       " 67.69087063867164,\n",
       " 68.05151636655138,\n",
       " 67.36986329977275,\n",
       " 68.14618882388895,\n",
       " 67.64285527035138,\n",
       " 67.45260402574455,\n",
       " 67.8174605081942,\n",
       " 67.55721128031654,\n",
       " 67.75169913300414,\n",
       " 68.12806919862722,\n",
       " 68.04606687788595,\n",
       " 67.59470443636981,\n",
       " 67.60397712619466,\n",
       " 68.04715117097788,\n",
       " 67.79790952388078,\n",
       " 67.78656236711538,\n",
       " 67.62096292202926,\n",
       " 67.63515524307043,\n",
       " 68.07259995822903,\n",
       " 67.70932684863051,\n",
       " 68.26495106186088,\n",
       " 67.75670785370198,\n",
       " 67.75094301359806,\n",
       " 67.80741373986675,\n",
       " 67.40311667022743,\n",
       " 67.55531037972989,\n",
       " 67.69522795959435,\n",
       " 67.92296964376509,\n",
       " 67.76788085309131,\n",
       " 67.55123298612443,\n",
       " 67.74438215902214,\n",
       " 68.11343578395498,\n",
       " 67.61500267029307,\n",
       " 67.95374073427134,\n",
       " 67.9062198007764,\n",
       " 67.66598232157983,\n",
       " 67.80523772498591,\n",
       " 67.69298534908741,\n",
       " 67.84066544031597,\n",
       " 68.13374144233929,\n",
       " 67.36953129112142,\n",
       " 67.35964301375189,\n",
       " 67.76935922201663,\n",
       " 67.98390869775899,\n",
       " 67.2382239511716,\n",
       " ...]"
      ]
     },
     "execution_count": 130,
     "metadata": {},
     "output_type": "execute_result"
    }
   ],
   "source": [
    "means"
   ]
  },
  {
   "cell_type": "code",
   "execution_count": 131,
   "metadata": {},
   "outputs": [],
   "source": [
    "## create a random sample for the null values\n",
    "null_vals=np.random.normal(70, np.std(means),10000)"
   ]
  },
  {
   "cell_type": "code",
   "execution_count": 132,
   "metadata": {},
   "outputs": [
    {
     "data": {
      "text/plain": [
       "10000"
      ]
     },
     "execution_count": 132,
     "metadata": {},
     "output_type": "execute_result"
    }
   ],
   "source": [
    "len(null_vals)"
   ]
  },
  {
   "cell_type": "code",
   "execution_count": 133,
   "metadata": {},
   "outputs": [
    {
     "data": {
      "text/plain": [
       "array([70.01438804, 70.28588974, 70.37152584, ..., 69.90195329,\n",
       "       69.8599157 , 69.58182851])"
      ]
     },
     "execution_count": 133,
     "metadata": {},
     "output_type": "execute_result"
    }
   ],
   "source": [
    "null_vals"
   ]
  },
  {
   "cell_type": "code",
   "execution_count": 134,
   "metadata": {},
   "outputs": [
    {
     "data": {
      "text/plain": [
       "<matplotlib.lines.Line2D at 0x7f8f2701b6d0>"
      ]
     },
     "execution_count": 134,
     "metadata": {},
     "output_type": "execute_result"
    },
    {
     "data": {
      "image/png": "[encoded data removed]",
      "text/plain": [
       "<Figure size 432x288 with 1 Axes>"
      ]
     },
     "metadata": {
      "needs_background": "light"
     },
     "output_type": "display_data"
    }
   ],
   "source": [
    "#Plot the null values\n",
    "plt.hist(null_vals);\n",
    "plt.axvline(bootsample.height.mean(), color='y', linewidth=2)"
   ]
  },
  {
   "cell_type": "code",
   "execution_count": null,
   "metadata": {},
   "outputs": [],
   "source": []
  },
  {
   "cell_type": "code",
   "execution_count": 144,
   "metadata": {},
   "outputs": [],
   "source": [
    "sample_mean=bootsample.height.mean()"
   ]
  },
  {
   "cell_type": "code",
   "execution_count": 145,
   "metadata": {},
   "outputs": [
    {
     "data": {
      "text/plain": [
       "67.98970263011347"
      ]
     },
     "execution_count": 145,
     "metadata": {},
     "output_type": "execute_result"
    }
   ],
   "source": [
    "sample_mean"
   ]
  },
  {
   "cell_type": "code",
   "execution_count": 147,
   "metadata": {},
   "outputs": [
    {
     "data": {
      "text/plain": [
       "70.00165161144947"
      ]
     },
     "execution_count": 147,
     "metadata": {},
     "output_type": "execute_result"
    }
   ],
   "source": [
    "null_vals.mean()"
   ]
  },
  {
   "cell_type": "code",
   "execution_count": 136,
   "metadata": {},
   "outputs": [
    {
     "data": {
      "text/plain": [
       "1.0"
      ]
     },
     "execution_count": 136,
     "metadata": {},
     "output_type": "execute_result"
    }
   ],
   "source": [
    "(null_vals > sample_mean).mean()"
   ]
  },
  {
   "cell_type": "code",
   "execution_count": 137,
   "metadata": {},
   "outputs": [
    {
     "data": {
      "text/plain": [
       "0.0"
      ]
     },
     "execution_count": 137,
     "metadata": {},
     "output_type": "execute_result"
    }
   ],
   "source": [
    "(null_vals < sample_mean).mean()"
   ]
  },
  {
   "cell_type": "code",
   "execution_count": 148,
   "metadata": {},
   "outputs": [
    {
     "data": {
      "text/plain": [
       "0.0"
      ]
     },
     "execution_count": 148,
     "metadata": {},
     "output_type": "execute_result"
    }
   ],
   "source": [
    "null_mean = 70\n",
    "(null_vals < sample_mean).mean() + (null_vals > null_mean +(null_mean - sample_mean)).mean()"
   ]
  },
  {
   "cell_type": "code",
   "execution_count": 150,
   "metadata": {},
   "outputs": [
    {
     "data": {
      "text/plain": [
       "<matplotlib.lines.Line2D at 0x7f8f27251450>"
      ]
     },
     "execution_count": 150,
     "metadata": {},
     "output_type": "execute_result"
    },
    {
     "data": {
      "image/png": "[encoded data removed]",
      "text/plain": [
       "<Figure size 432x288 with 1 Axes>"
      ]
     },
     "metadata": {
      "needs_background": "light"
     },
     "output_type": "display_data"
    }
   ],
   "source": [
    "low = sample_mean\n",
    "high = null_mean + (null_mean - sample_mean)\n",
    "\n",
    "plt.hist(null_vals);\n",
    "plt.axvline(low,color='b', linewidth=2)\n",
    "plt.axvline(high,color='g', linewidth=2)"
   ]
  },
  {
   "cell_type": "code",
   "execution_count": null,
   "metadata": {},
   "outputs": [],
   "source": []
  },
  {
   "cell_type": "code",
   "execution_count": null,
   "metadata": {},
   "outputs": [],
   "source": []
  },
  {
   "cell_type": "markdown",
   "metadata": {},
   "source": [
    "### How to use Simulations for Hypothesis Tests"
   ]
  },
  {
   "cell_type": "markdown",
   "metadata": {},
   "source": [
    "For this first example, we would like to conduct a hypothesis test to see if a six-sided die is equally weighted (if all 6 numbers are equally likely). Our null hypothesis for this test will be that all numbers are equally likely to be rolled.\n",
    "We will imagine that a die has an unknown probability of rolling a 1 of 20% and a 16% chance of rolling each of the other 5 numbers\n",
    "\n",
    "\n",
    "https://towardsdatascience.com/how-to-use-simulations-for-hypothesis-tests-6f0ac53a9c8f"
   ]
  },
  {
   "cell_type": "code",
   "execution_count": null,
   "metadata": {},
   "outputs": [],
   "source": []
  },
  {
   "cell_type": "code",
   "execution_count": 52,
   "metadata": {},
   "outputs": [],
   "source": [
    "random.seed(100)\n",
    "pop=[1,2,3,4,5,6]\n",
    "weights= [0.2, 0.16, 0.16, 0.16, 0.16, 0.16]\n",
    "skewed = random.choices (pop, weights=weights, k=200)"
   ]
  },
  {
   "cell_type": "code",
   "execution_count": 75,
   "metadata": {},
   "outputs": [
    {
     "data": {
      "text/plain": [
       "46"
      ]
     },
     "execution_count": 75,
     "metadata": {},
     "output_type": "execute_result"
    }
   ],
   "source": [
    "skewed.count(1)"
   ]
  },
  {
   "cell_type": "code",
   "execution_count": 103,
   "metadata": {},
   "outputs": [
    {
     "data": {
      "text/plain": [
       "200"
      ]
     },
     "execution_count": 103,
     "metadata": {},
     "output_type": "execute_result"
    }
   ],
   "source": [
    "len(skewed)"
   ]
  },
  {
   "cell_type": "markdown",
   "metadata": {},
   "source": [
    "After observing 200 rolls (generated from the code above), we count the number of each number being rolled using the below function:"
   ]
  },
  {
   "cell_type": "code",
   "execution_count": 61,
   "metadata": {},
   "outputs": [],
   "source": [
    "def count_occurences(data, minimum=1, maximum=6):\n",
    "    counter={num: 0 for num in range(minimum, maximum+1)}\n",
    "    for roll in data:\n",
    "        counter[roll] +=1\n",
    "    return counter"
   ]
  },
  {
   "cell_type": "code",
   "execution_count": 77,
   "metadata": {},
   "outputs": [
    {
     "data": {
      "text/plain": [
       "{1: 46, 2: 29, 3: 27, 4: 39, 5: 29, 6: 30}"
      ]
     },
     "execution_count": 77,
     "metadata": {},
     "output_type": "execute_result"
    }
   ],
   "source": [
    "skewed_dist = count_occurences(skewed)\n",
    "skewed_dist"
   ]
  },
  {
   "cell_type": "code",
   "execution_count": null,
   "metadata": {},
   "outputs": [],
   "source": []
  },
  {
   "cell_type": "markdown",
   "metadata": {},
   "source": [
    "If the die was equally weighted, we would expect that the number for each of these rolls would be about 32 as we rolled the die 200 times and each number should have a probability of 16.67% (1/6) of showing up. We notice that the number of 1’s is especially large and would like to test if this could be due to chance.\n",
    "Since we already know the underlying probabilities of each number occurring in a fair die, we can simulate thousands of dice rolls and see how likely it is to observe 46 ones in a set of 200 rolls.\n",
    "We can generate 100 trials of 200 fair-die rolls using the code below:"
   ]
  },
  {
   "cell_type": "code",
   "execution_count": 81,
   "metadata": {},
   "outputs": [],
   "source": [
    "rolls_dist_100 = [[random.randint(1,6) for rolls in range(200)] for num_trials in range(100)]\n"
   ]
  },
  {
   "cell_type": "code",
   "execution_count": 104,
   "metadata": {},
   "outputs": [
    {
     "data": {
      "text/plain": [
       "100"
      ]
     },
     "execution_count": 104,
     "metadata": {},
     "output_type": "execute_result"
    }
   ],
   "source": [
    "len(rolls_dist_100)"
   ]
  },
  {
   "cell_type": "markdown",
   "metadata": {},
   "source": [
    "How many trials should we simulate? Are 100 trials enough? This is an important thing to consider. Let’s see the distribution of the number of ones we see in different numbers of trials."
   ]
  },
  {
   "cell_type": "code",
   "execution_count": 87,
   "metadata": {},
   "outputs": [
    {
     "data": {
      "image/png": "[encoded data removed]",
      "text/plain": [
       "<IPython.core.display.Image object>"
      ]
     },
     "execution_count": 87,
     "metadata": {},
     "output_type": "execute_result"
    }
   ],
   "source": [
    "Image(filename='/Users/balance/Desktop/1.png')"
   ]
  },
  {
   "cell_type": "code",
   "execution_count": null,
   "metadata": {},
   "outputs": [],
   "source": []
  },
  {
   "cell_type": "markdown",
   "metadata": {},
   "source": [
    "## Method 2: Permutation Hypothesis Test"
   ]
  },
  {
   "cell_type": "code",
   "execution_count": 88,
   "metadata": {},
   "outputs": [],
   "source": [
    "## we generate the data using the followiing code:\n",
    "\n",
    "pop = [1, 2, 3, 4, 5, 6]\n",
    "weights_skewed = [.2, .16, .16, .16, .16, .16]\n",
    "random.seed(100)\n",
    "rolls_vs = [random.choices(pop, k=200) if person != 0 else random.choices(pop, weights=weights_skewed, k=200) for person in range(1000)]"
   ]
  },
  {
   "cell_type": "code",
   "execution_count": 90,
   "metadata": {},
   "outputs": [],
   "source": [
    "df_vs=pd.DataFrame(list(map(count_occurences, rolls_vs)))"
   ]
  },
  {
   "cell_type": "code",
   "execution_count": 91,
   "metadata": {},
   "outputs": [],
   "source": [
    "perms=[np.random.permutation(df_vs[1])[0] for i in range(100000)]"
   ]
  },
  {
   "cell_type": "code",
   "execution_count": 105,
   "metadata": {},
   "outputs": [
    {
     "data": {
      "text/plain": [
       "100000"
      ]
     },
     "execution_count": 105,
     "metadata": {},
     "output_type": "execute_result"
    }
   ],
   "source": [
    "len(perms)"
   ]
  },
  {
   "cell_type": "code",
   "execution_count": null,
   "metadata": {},
   "outputs": [],
   "source": [
    "## We find the p-value of observing a value of 46 or higher given the distribution."
   ]
  },
  {
   "cell_type": "code",
   "execution_count": 92,
   "metadata": {},
   "outputs": [
    {
     "data": {
      "text/plain": [
       "0.01753"
      ]
     },
     "execution_count": 92,
     "metadata": {},
     "output_type": "execute_result"
    }
   ],
   "source": [
    "sum([1 if 46 <= x else 0 for x in perms])/100000"
   ]
  },
  {
   "cell_type": "code",
   "execution_count": null,
   "metadata": {},
   "outputs": [],
   "source": []
  },
  {
   "cell_type": "markdown",
   "metadata": {},
   "source": [
    "We get a p-value of 0.017. This is a pretty low probability but not completely unbelievable. We would expect to see this type of performance about 1 in 100 times. We should be skeptical of this performance and potentially believe that the player could have cheated in this tournament. If this were another test in a research setting, we would have enough evidence to reject the null hypothesis that the results we observed were due to chance in favor of our alternative hypothesis that the player is using a skewed die.\n",
    "\n",
    "#### Conclusion\n",
    "We now have two more tools as data scientists to conduct hypothesis testing. With just a few lines of code, we are able to test these hypotheses with very few assumptions. We don’t need the typical assumption about the normality of the data often required in hypothesis testing.\n",
    "These tools have some interesting applications outside of analyzing dice rolls. We now have the basic building blocks to analyze these questions. These types of tests have been applied to interesting problems such as assessing judging bias in Olympic diving and assessing the existence of the hot hand in basketball"
   ]
  },
  {
   "cell_type": "code",
   "execution_count": null,
   "metadata": {},
   "outputs": [],
   "source": []
  },
  {
   "cell_type": "code",
   "execution_count": null,
   "metadata": {},
   "outputs": [],
   "source": []
  },
  {
   "cell_type": "code",
   "execution_count": null,
   "metadata": {},
   "outputs": [],
   "source": []
  },
  {
   "cell_type": "markdown",
   "metadata": {},
   "source": [
    "## Calculating Errors"
   ]
  },
  {
   "cell_type": "markdown",
   "metadata": {},
   "source": [
    "Calculating Errors\n",
    "Here are two datasets that represent two of the examples you have seen in this lesson.\n",
    "\n",
    "One dataset is based on the parachute example, and the second is based on the judicial example. Neither of these datasets is based on real people.\n",
    "\n",
    "Use the exercises below to assist in answering the quiz questions at the bottom of this page"
   ]
  },
  {
   "cell_type": "code",
   "execution_count": 152,
   "metadata": {},
   "outputs": [],
   "source": [
    "import numpy as np\n",
    "import pandas as pd\n",
    "\n",
    "jud_data = pd.read_csv('/Users/balance/Desktop/udacity-review/Practical Statistics/judicial_dataset_predictions.csv')\n",
    "par_data = pd.read_csv('/Users/balance/Desktop/udacity-review/Practical Statistics/parachute_dataset.csv')"
   ]
  },
  {
   "cell_type": "code",
   "execution_count": 153,
   "metadata": {},
   "outputs": [
    {
     "data": {
      "text/html": [
       "<div>\n",
       "<style scoped>\n",
       "    .dataframe tbody tr th:only-of-type {\n",
       "        vertical-align: middle;\n",
       "    }\n",
       "\n",
       "    .dataframe tbody tr th {\n",
       "        vertical-align: top;\n",
       "    }\n",
       "\n",
       "    .dataframe thead th {\n",
       "        text-align: right;\n",
       "    }\n",
       "</style>\n",
       "<table border=\"1\" class=\"dataframe\">\n",
       "  <thead>\n",
       "    <tr style=\"text-align: right;\">\n",
       "      <th></th>\n",
       "      <th>defendant_id</th>\n",
       "      <th>actual</th>\n",
       "      <th>predicted</th>\n",
       "    </tr>\n",
       "  </thead>\n",
       "  <tbody>\n",
       "    <tr>\n",
       "      <th>0</th>\n",
       "      <td>22574</td>\n",
       "      <td>innocent</td>\n",
       "      <td>innocent</td>\n",
       "    </tr>\n",
       "    <tr>\n",
       "      <th>1</th>\n",
       "      <td>35637</td>\n",
       "      <td>innocent</td>\n",
       "      <td>innocent</td>\n",
       "    </tr>\n",
       "    <tr>\n",
       "      <th>2</th>\n",
       "      <td>39919</td>\n",
       "      <td>innocent</td>\n",
       "      <td>innocent</td>\n",
       "    </tr>\n",
       "    <tr>\n",
       "      <th>3</th>\n",
       "      <td>29610</td>\n",
       "      <td>guilty</td>\n",
       "      <td>guilty</td>\n",
       "    </tr>\n",
       "    <tr>\n",
       "      <th>4</th>\n",
       "      <td>38273</td>\n",
       "      <td>innocent</td>\n",
       "      <td>innocent</td>\n",
       "    </tr>\n",
       "  </tbody>\n",
       "</table>\n",
       "</div>"
      ],
      "text/plain": [
       "   defendant_id    actual predicted\n",
       "0         22574  innocent  innocent\n",
       "1         35637  innocent  innocent\n",
       "2         39919  innocent  innocent\n",
       "3         29610    guilty    guilty\n",
       "4         38273  innocent  innocent"
      ]
     },
     "execution_count": 153,
     "metadata": {},
     "output_type": "execute_result"
    }
   ],
   "source": [
    "jud_data.head()"
   ]
  },
  {
   "cell_type": "code",
   "execution_count": 154,
   "metadata": {},
   "outputs": [
    {
     "data": {
      "text/html": [
       "<div>\n",
       "<style scoped>\n",
       "    .dataframe tbody tr th:only-of-type {\n",
       "        vertical-align: middle;\n",
       "    }\n",
       "\n",
       "    .dataframe tbody tr th {\n",
       "        vertical-align: top;\n",
       "    }\n",
       "\n",
       "    .dataframe thead th {\n",
       "        text-align: right;\n",
       "    }\n",
       "</style>\n",
       "<table border=\"1\" class=\"dataframe\">\n",
       "  <thead>\n",
       "    <tr style=\"text-align: right;\">\n",
       "      <th></th>\n",
       "      <th>parachute_id</th>\n",
       "      <th>actual</th>\n",
       "      <th>predicted</th>\n",
       "    </tr>\n",
       "  </thead>\n",
       "  <tbody>\n",
       "    <tr>\n",
       "      <th>0</th>\n",
       "      <td>3956</td>\n",
       "      <td>opens</td>\n",
       "      <td>opens</td>\n",
       "    </tr>\n",
       "    <tr>\n",
       "      <th>1</th>\n",
       "      <td>2147</td>\n",
       "      <td>opens</td>\n",
       "      <td>opens</td>\n",
       "    </tr>\n",
       "    <tr>\n",
       "      <th>2</th>\n",
       "      <td>2024</td>\n",
       "      <td>opens</td>\n",
       "      <td>opens</td>\n",
       "    </tr>\n",
       "    <tr>\n",
       "      <th>3</th>\n",
       "      <td>8325</td>\n",
       "      <td>opens</td>\n",
       "      <td>opens</td>\n",
       "    </tr>\n",
       "    <tr>\n",
       "      <th>4</th>\n",
       "      <td>6598</td>\n",
       "      <td>opens</td>\n",
       "      <td>opens</td>\n",
       "    </tr>\n",
       "  </tbody>\n",
       "</table>\n",
       "</div>"
      ],
      "text/plain": [
       "   parachute_id actual predicted\n",
       "0          3956  opens     opens\n",
       "1          2147  opens     opens\n",
       "2          2024  opens     opens\n",
       "3          8325  opens     opens\n",
       "4          6598  opens     opens"
      ]
     },
     "execution_count": 154,
     "metadata": {},
     "output_type": "execute_result"
    }
   ],
   "source": [
    "par_data.head()"
   ]
  },
  {
   "cell_type": "code",
   "execution_count": null,
   "metadata": {},
   "outputs": [],
   "source": []
  },
  {
   "cell_type": "markdown",
   "metadata": {},
   "source": [
    "1. Above, you can see the actual and predicted columns for each of the datasets. Using the jud_data, find the proportion of errors for the dataset, and furthermore, the percentage of errors of each type. Use the results to answer the questions in quiz 1 below"
   ]
  },
  {
   "cell_type": "code",
   "execution_count": 155,
   "metadata": {},
   "outputs": [
    {
     "data": {
      "text/plain": [
       "0.042152958945489497"
      ]
     },
     "execution_count": 155,
     "metadata": {},
     "output_type": "execute_result"
    }
   ],
   "source": [
    "# Number of errors\n",
    "jud_data[jud_data['actual'] != jud_data['predicted']].shape[0]/jud_data.shape[0] "
   ]
  },
  {
   "cell_type": "code",
   "execution_count": 156,
   "metadata": {},
   "outputs": [
    {
     "data": {
      "text/plain": [
       "0.001510366607167376"
      ]
     },
     "execution_count": 156,
     "metadata": {},
     "output_type": "execute_result"
    }
   ],
   "source": [
    "# Type 1 errors\n",
    "jud_data.query(\"actual == 'innocent' and predicted == 'guilty'\").count()[0]/jud_data.shape[0]"
   ]
  },
  {
   "cell_type": "code",
   "execution_count": 157,
   "metadata": {},
   "outputs": [
    {
     "data": {
      "text/plain": [
       "0.04064259233832212"
      ]
     },
     "execution_count": 157,
     "metadata": {},
     "output_type": "execute_result"
    }
   ],
   "source": [
    "# Type 2 errors\n",
    "jud_data.query(\"actual == 'guilty' and predicted == 'innocent'\").count()[0]/jud_data.shape[0]"
   ]
  },
  {
   "cell_type": "code",
   "execution_count": null,
   "metadata": {},
   "outputs": [],
   "source": []
  },
  {
   "cell_type": "code",
   "execution_count": 158,
   "metadata": {},
   "outputs": [
    {
     "data": {
      "text/plain": [
       "0.45159961554304545"
      ]
     },
     "execution_count": 158,
     "metadata": {},
     "output_type": "execute_result"
    }
   ],
   "source": [
    "# If everyone was predicted to be guilty, then every actual innocent \n",
    "# person would be a type I error.\n",
    "\n",
    "# Type I = pred guilty, but actual = innocent\n",
    "jud_data[jud_data['actual'] == 'innocent'].shape[0]/jud_data.shape[0]"
   ]
  },
  {
   "cell_type": "code",
   "execution_count": 159,
   "metadata": {},
   "outputs": [
    {
     "data": {
      "text/plain": [
       "0"
      ]
     },
     "execution_count": 159,
     "metadata": {},
     "output_type": "execute_result"
    }
   ],
   "source": [
    "#If everyone has prediction of guilty, then no one is predicted inncoent\n",
    "#Therefore, there would be no type 2 errors in this case\n",
    "\n",
    "# Type II errs = pred innocent, but actual = guilty\n",
    "0"
   ]
  },
  {
   "cell_type": "code",
   "execution_count": null,
   "metadata": {},
   "outputs": [],
   "source": []
  },
  {
   "cell_type": "code",
   "execution_count": null,
   "metadata": {},
   "outputs": [],
   "source": []
  },
  {
   "cell_type": "markdown",
   "metadata": {},
   "source": [
    "2.Above, you can see the actual and predicted columns for each of the datasets. Using the par_data, find the proportion of errors for the dataset, and furthermore, the percentage of errors of each type. Use the results to answer the questions in quiz 2 below."
   ]
  },
  {
   "cell_type": "code",
   "execution_count": 160,
   "metadata": {},
   "outputs": [
    {
     "data": {
      "text/plain": [
       "0.039972551037913875"
      ]
     },
     "execution_count": 160,
     "metadata": {},
     "output_type": "execute_result"
    }
   ],
   "source": [
    "# Number of errors\n",
    "par_data[par_data['actual'] != par_data['predicted']].shape[0]/par_data.shape[0]"
   ]
  },
  {
   "cell_type": "code",
   "execution_count": 161,
   "metadata": {},
   "outputs": [
    {
     "data": {
      "text/plain": [
       "0.00017155601303825698"
      ]
     },
     "execution_count": 161,
     "metadata": {},
     "output_type": "execute_result"
    }
   ],
   "source": [
    "# Type 1 errors\n",
    "par_data.query(\"actual == 'fails' and predicted == 'opens'\").count()[0]/par_data.shape[0] \n"
   ]
  },
  {
   "cell_type": "code",
   "execution_count": 162,
   "metadata": {},
   "outputs": [
    {
     "data": {
      "text/plain": [
       "0.03980099502487562"
      ]
     },
     "execution_count": 162,
     "metadata": {},
     "output_type": "execute_result"
    }
   ],
   "source": [
    "# Type 2 errors\n",
    "par_data.query(\"actual == 'opens' and predicted == 'fails'\").count()[0]/par_data.shape[0]"
   ]
  },
  {
   "cell_type": "code",
   "execution_count": 163,
   "metadata": {},
   "outputs": [
    {
     "data": {
      "text/plain": [
       "0"
      ]
     },
     "execution_count": 163,
     "metadata": {},
     "output_type": "execute_result"
    }
   ],
   "source": [
    "# If every parachute is predicted to fail, what is the proportion\n",
    "# of type I errors made?\n",
    "\n",
    "# Type I = pred open, but actual = fail\n",
    "# In the above situation since we have none predicted to open,\n",
    "# we have no type I errors\n",
    "\n",
    "0"
   ]
  },
  {
   "cell_type": "code",
   "execution_count": 164,
   "metadata": {},
   "outputs": [
    {
     "data": {
      "text/plain": [
       "0.9917653113741637"
      ]
     },
     "execution_count": 164,
     "metadata": {},
     "output_type": "execute_result"
    }
   ],
   "source": [
    "# If every parachute is predicted to fail, what is\n",
    "# the proportion of Type II Errors made?  \n",
    "\n",
    "# This would just be the total of actual opens in the dataset, \n",
    "# as we would label these all as fails, but actually they open\n",
    "\n",
    "# Type II = pred fail, but actual = open\n",
    "par_data[par_data['actual'] == 'opens'].shape[0]/par_data.shape[0]"
   ]
  },
  {
   "cell_type": "code",
   "execution_count": null,
   "metadata": {},
   "outputs": [],
   "source": []
  },
  {
   "cell_type": "code",
   "execution_count": null,
   "metadata": {},
   "outputs": [],
   "source": []
  }
 ],
 "metadata": {
  "kernelspec": {
   "display_name": "Python 3",
   "language": "python",
   "name": "python3"
  },
  "language_info": {
   "codemirror_mode": {
    "name": "ipython",
    "version": 3
   },
   "file_extension": ".py",
   "mimetype": "text/x-python",
   "name": "python",
   "nbconvert_exporter": "python",
   "pygments_lexer": "ipython3",
   "version": "3.7.9"
  }
 },
 "nbformat": 4,
 "nbformat_minor": 4
}
